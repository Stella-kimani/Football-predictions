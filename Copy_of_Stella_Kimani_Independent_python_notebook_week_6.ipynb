{
  "nbformat": 4,
  "nbformat_minor": 0,
  "metadata": {
    "colab": {
      "name": "Copy of Stella_Kimani_Independent_python_notebook_week_6",
      "provenance": [],
      "collapsed_sections": [],
      "include_colab_link": true
    },
    "kernelspec": {
      "name": "python3",
      "display_name": "Python 3"
    }
  },
  "cells": [
    {
      "cell_type": "markdown",
      "metadata": {
        "id": "view-in-github",
        "colab_type": "text"
      },
      "source": [
        "<a href=\"https://colab.research.google.com/github/Stella-kimani/Week-6-IP/blob/master/Copy_of_Stella_Kimani_Independent_python_notebook_week_6.ipynb\" target=\"_parent\"><img src=\"https://colab.research.google.com/assets/colab-badge.svg\" alt=\"Open In Colab\"/></a>"
      ]
    },
    {
      "cell_type": "markdown",
      "metadata": {
        "id": "0a15M3zcEbcp",
        "colab_type": "text"
      },
      "source": [
        "1.The Overview "
      ]
    },
    {
      "cell_type": "markdown",
      "metadata": {
        "id": "pvbtJvweEb2q",
        "colab_type": "text"
      },
      "source": [
        "You have been recruited as a football analyst in a company - Mchezopesa Ltd and tasked to accomplish the task below.\n",
        "\n",
        "A prediction result of a game between team 1 and team 2, based on who's home and who's away, and on whether or not the game is friendly (include rank in your training).\n",
        "\n",
        "You have two possible approaches (as  shown below) given the datasets that will be provided\n",
        "\n",
        "Input: Home team, Away team, Tournament type (World cup, Friendly, Other)\n",
        "\n",
        "Approach 1: Polynomial approach\n",
        "\n",
        "What to train given:\n",
        "\n",
        "Rank of home team\n",
        "Rank of away team\n",
        "Tournament type\n",
        "Model 1: Predict how many goals the home team scores.\n",
        "\n",
        "Model 2: Predict how many goals the away team scores.\n",
        "\n",
        "Approach 2: Logistic approach\n",
        "\n",
        "Feature Engineering: Figure out from the home team’s perspective if the game is a Win, Lose or Draw (W, L, D)"
      ]
    },
    {
      "cell_type": "markdown",
      "metadata": {
        "id": "tuWLXtC2E7Vf",
        "colab_type": "text"
      },
      "source": [
        "2.Metric for success\n",
        "\n",
        "The metric for success will be  determined by building models where the accuracy is more than 70%.\n"
      ]
    },
    {
      "cell_type": "markdown",
      "metadata": {
        "id": "9IciV6JAGX9l",
        "colab_type": "text"
      },
      "source": [
        "3.Understanding the context\n",
        "\n",
        "The men's FIFA World Ranking is a ranking system for men's national teams in association football, currently led by Belgium.[1] The teams of the men's member nations of FIFA, football's world governing body, are ranked based on their game results with the most successful teams being ranked highest. The rankings were introduced in December 1992, and eight teams (Argentina, Belgium, Brazil, France, Germany, Italy, the Netherlands and Spain) have held the top position, of which Brazil have spent the longest ranked first.\n",
        "\n",
        "A points system is used, with points being awarded based on the results of all FIFA-recognised full international matches.\n",
        "\n",
        "The ranking system has been revamped on several occasions, generally responding to criticism that the preceding calculation method did not effectively reflect the relative strengths of the national teams"
      ]
    },
    {
      "cell_type": "markdown",
      "metadata": {
        "id": "5gCCHP18HXa_",
        "colab_type": "text"
      },
      "source": [
        "4.Recording experimetal design\n",
        "\n",
        "Expected flow for the assessment:\n",
        "\n",
        "1.Perform your Exploratory Data Analysis\n",
        "\n",
        "2.Perform any necessary feature engineering \n",
        "\n",
        "3.Check of multicollinearity\n",
        "\n",
        "4.Start building the model\n",
        "\n",
        "5.Cross-validate the model\n",
        "\n",
        "6.Compute Root mean squared error\n",
        "\n",
        "7.Create residual plots for your models, and assess their heteroscedasticity using Bartlett’s test\n",
        "8.Perform appropriate polynomial and logistic regressions on the data including your justification\n",
        "\n",
        "8.Challenging  the solution by providing insights on how you can make improvements."
      ]
    },
    {
      "cell_type": "markdown",
      "metadata": {
        "id": "nJPEOXf3XhBx",
        "colab_type": "text"
      },
      "source": [
        "External validation\n",
        "\n",
        "This dataset Fifa ranking is valid and can be found here.\n",
        "\n",
        "A more detailed explanation and history of the rankings is available here: https://en.wikipedia.org/wiki/FIFA_World_Rankings\n",
        "\n",
        "An explanation of the ranking procedure is available here: https://www.fifa.com/fifa-world-ranking/procedure/men\n",
        "\n",
        "\n"
      ]
    },
    {
      "cell_type": "code",
      "metadata": {
        "id": "R4tT94AbEUUi",
        "colab_type": "code",
        "colab": {
          "base_uri": "https://localhost:8080/",
          "height": 50
        },
        "outputId": "6851f06c-e86d-450f-eecc-ac889f0be0c6"
      },
      "source": [
        "# Importing the necessary  libraries\n",
        "import pandas as pd\n",
        "import numpy as np\n",
        "import seaborn as sns\n",
        "import matplotlib.pyplot as plt\n",
        "%matplotlib inline\n",
        "from sklearn import metrics\n",
        "import warnings\n",
        "warnings.filterwarnings(\"ignore\")\n",
        "import statsmodels.api"
      ],
      "execution_count": null,
      "outputs": [
        {
          "output_type": "stream",
          "text": [
            "/usr/local/lib/python3.6/dist-packages/statsmodels/tools/_testing.py:19: FutureWarning: pandas.util.testing is deprecated. Use the functions in the public API at pandas.testing instead.\n",
            "  import pandas.util.testing as tm\n"
          ],
          "name": "stderr"
        }
      ]
    },
    {
      "cell_type": "code",
      "metadata": {
        "id": "BkehjfMj_oa1",
        "colab_type": "code",
        "colab": {}
      },
      "source": [
        "# Loading the dataset\n",
        "# First i will start with the fifa dataset\n",
        "fifa = pd.read_csv('fifa_ranking.csv')\n",
        "sns.set_style()"
      ],
      "execution_count": null,
      "outputs": []
    },
    {
      "cell_type": "code",
      "metadata": {
        "id": "k4D63PxdAaga",
        "colab_type": "code",
        "colab": {
          "base_uri": "https://localhost:8080/",
          "height": 301
        },
        "outputId": "1c4e704d-cc74-47fe-d4ee-9c4e54ef2d5e"
      },
      "source": [
        "# Previewing the Dataset\n",
        "# ---\n",
        "#\n",
        "fifa.head()"
      ],
      "execution_count": null,
      "outputs": [
        {
          "output_type": "execute_result",
          "data": {
            "text/html": [
              "<div>\n",
              "<style scoped>\n",
              "    .dataframe tbody tr th:only-of-type {\n",
              "        vertical-align: middle;\n",
              "    }\n",
              "\n",
              "    .dataframe tbody tr th {\n",
              "        vertical-align: top;\n",
              "    }\n",
              "\n",
              "    .dataframe thead th {\n",
              "        text-align: right;\n",
              "    }\n",
              "</style>\n",
              "<table border=\"1\" class=\"dataframe\">\n",
              "  <thead>\n",
              "    <tr style=\"text-align: right;\">\n",
              "      <th></th>\n",
              "      <th>rank</th>\n",
              "      <th>country_full</th>\n",
              "      <th>country_abrv</th>\n",
              "      <th>total_points</th>\n",
              "      <th>previous_points</th>\n",
              "      <th>rank_change</th>\n",
              "      <th>cur_year_avg</th>\n",
              "      <th>cur_year_avg_weighted</th>\n",
              "      <th>last_year_avg</th>\n",
              "      <th>last_year_avg_weighted</th>\n",
              "      <th>two_year_ago_avg</th>\n",
              "      <th>two_year_ago_weighted</th>\n",
              "      <th>three_year_ago_avg</th>\n",
              "      <th>three_year_ago_weighted</th>\n",
              "      <th>confederation</th>\n",
              "      <th>rank_date</th>\n",
              "    </tr>\n",
              "  </thead>\n",
              "  <tbody>\n",
              "    <tr>\n",
              "      <th>0</th>\n",
              "      <td>1</td>\n",
              "      <td>Germany</td>\n",
              "      <td>GER</td>\n",
              "      <td>0.0</td>\n",
              "      <td>57</td>\n",
              "      <td>0</td>\n",
              "      <td>0.0</td>\n",
              "      <td>0.0</td>\n",
              "      <td>0.0</td>\n",
              "      <td>0.0</td>\n",
              "      <td>0.0</td>\n",
              "      <td>0.0</td>\n",
              "      <td>0.0</td>\n",
              "      <td>0.0</td>\n",
              "      <td>UEFA</td>\n",
              "      <td>1993-08-08</td>\n",
              "    </tr>\n",
              "    <tr>\n",
              "      <th>1</th>\n",
              "      <td>2</td>\n",
              "      <td>Italy</td>\n",
              "      <td>ITA</td>\n",
              "      <td>0.0</td>\n",
              "      <td>57</td>\n",
              "      <td>0</td>\n",
              "      <td>0.0</td>\n",
              "      <td>0.0</td>\n",
              "      <td>0.0</td>\n",
              "      <td>0.0</td>\n",
              "      <td>0.0</td>\n",
              "      <td>0.0</td>\n",
              "      <td>0.0</td>\n",
              "      <td>0.0</td>\n",
              "      <td>UEFA</td>\n",
              "      <td>1993-08-08</td>\n",
              "    </tr>\n",
              "    <tr>\n",
              "      <th>2</th>\n",
              "      <td>3</td>\n",
              "      <td>Switzerland</td>\n",
              "      <td>SUI</td>\n",
              "      <td>0.0</td>\n",
              "      <td>50</td>\n",
              "      <td>9</td>\n",
              "      <td>0.0</td>\n",
              "      <td>0.0</td>\n",
              "      <td>0.0</td>\n",
              "      <td>0.0</td>\n",
              "      <td>0.0</td>\n",
              "      <td>0.0</td>\n",
              "      <td>0.0</td>\n",
              "      <td>0.0</td>\n",
              "      <td>UEFA</td>\n",
              "      <td>1993-08-08</td>\n",
              "    </tr>\n",
              "    <tr>\n",
              "      <th>3</th>\n",
              "      <td>4</td>\n",
              "      <td>Sweden</td>\n",
              "      <td>SWE</td>\n",
              "      <td>0.0</td>\n",
              "      <td>55</td>\n",
              "      <td>0</td>\n",
              "      <td>0.0</td>\n",
              "      <td>0.0</td>\n",
              "      <td>0.0</td>\n",
              "      <td>0.0</td>\n",
              "      <td>0.0</td>\n",
              "      <td>0.0</td>\n",
              "      <td>0.0</td>\n",
              "      <td>0.0</td>\n",
              "      <td>UEFA</td>\n",
              "      <td>1993-08-08</td>\n",
              "    </tr>\n",
              "    <tr>\n",
              "      <th>4</th>\n",
              "      <td>5</td>\n",
              "      <td>Argentina</td>\n",
              "      <td>ARG</td>\n",
              "      <td>0.0</td>\n",
              "      <td>51</td>\n",
              "      <td>5</td>\n",
              "      <td>0.0</td>\n",
              "      <td>0.0</td>\n",
              "      <td>0.0</td>\n",
              "      <td>0.0</td>\n",
              "      <td>0.0</td>\n",
              "      <td>0.0</td>\n",
              "      <td>0.0</td>\n",
              "      <td>0.0</td>\n",
              "      <td>CONMEBOL</td>\n",
              "      <td>1993-08-08</td>\n",
              "    </tr>\n",
              "  </tbody>\n",
              "</table>\n",
              "</div>"
            ],
            "text/plain": [
              "   rank country_full  ... confederation   rank_date\n",
              "0     1      Germany  ...          UEFA  1993-08-08\n",
              "1     2        Italy  ...          UEFA  1993-08-08\n",
              "2     3  Switzerland  ...          UEFA  1993-08-08\n",
              "3     4       Sweden  ...          UEFA  1993-08-08\n",
              "4     5    Argentina  ...      CONMEBOL  1993-08-08\n",
              "\n",
              "[5 rows x 16 columns]"
            ]
          },
          "metadata": {
            "tags": []
          },
          "execution_count": 3
        }
      ]
    },
    {
      "cell_type": "code",
      "metadata": {
        "id": "GON5J3T7AgJE",
        "colab_type": "code",
        "colab": {
          "base_uri": "https://localhost:8080/",
          "height": 301
        },
        "outputId": "412d4a97-c4be-4c55-927f-2f8ac8557f9a"
      },
      "source": [
        "#Previewing the bottom of our dataset\n",
        "fifa.tail()"
      ],
      "execution_count": null,
      "outputs": [
        {
          "output_type": "execute_result",
          "data": {
            "text/html": [
              "<div>\n",
              "<style scoped>\n",
              "    .dataframe tbody tr th:only-of-type {\n",
              "        vertical-align: middle;\n",
              "    }\n",
              "\n",
              "    .dataframe tbody tr th {\n",
              "        vertical-align: top;\n",
              "    }\n",
              "\n",
              "    .dataframe thead th {\n",
              "        text-align: right;\n",
              "    }\n",
              "</style>\n",
              "<table border=\"1\" class=\"dataframe\">\n",
              "  <thead>\n",
              "    <tr style=\"text-align: right;\">\n",
              "      <th></th>\n",
              "      <th>rank</th>\n",
              "      <th>country_full</th>\n",
              "      <th>country_abrv</th>\n",
              "      <th>total_points</th>\n",
              "      <th>previous_points</th>\n",
              "      <th>rank_change</th>\n",
              "      <th>cur_year_avg</th>\n",
              "      <th>cur_year_avg_weighted</th>\n",
              "      <th>last_year_avg</th>\n",
              "      <th>last_year_avg_weighted</th>\n",
              "      <th>two_year_ago_avg</th>\n",
              "      <th>two_year_ago_weighted</th>\n",
              "      <th>three_year_ago_avg</th>\n",
              "      <th>three_year_ago_weighted</th>\n",
              "      <th>confederation</th>\n",
              "      <th>rank_date</th>\n",
              "    </tr>\n",
              "  </thead>\n",
              "  <tbody>\n",
              "    <tr>\n",
              "      <th>57788</th>\n",
              "      <td>206</td>\n",
              "      <td>Anguilla</td>\n",
              "      <td>AIA</td>\n",
              "      <td>0.0</td>\n",
              "      <td>0</td>\n",
              "      <td>1</td>\n",
              "      <td>0.0</td>\n",
              "      <td>0.0</td>\n",
              "      <td>0.0</td>\n",
              "      <td>0.0</td>\n",
              "      <td>0.0</td>\n",
              "      <td>0.0</td>\n",
              "      <td>0.0</td>\n",
              "      <td>0.0</td>\n",
              "      <td>CONCACAF</td>\n",
              "      <td>2018-06-07</td>\n",
              "    </tr>\n",
              "    <tr>\n",
              "      <th>57789</th>\n",
              "      <td>206</td>\n",
              "      <td>Bahamas</td>\n",
              "      <td>BAH</td>\n",
              "      <td>0.0</td>\n",
              "      <td>0</td>\n",
              "      <td>1</td>\n",
              "      <td>0.0</td>\n",
              "      <td>0.0</td>\n",
              "      <td>0.0</td>\n",
              "      <td>0.0</td>\n",
              "      <td>0.0</td>\n",
              "      <td>0.0</td>\n",
              "      <td>0.0</td>\n",
              "      <td>0.0</td>\n",
              "      <td>CONCACAF</td>\n",
              "      <td>2018-06-07</td>\n",
              "    </tr>\n",
              "    <tr>\n",
              "      <th>57790</th>\n",
              "      <td>206</td>\n",
              "      <td>Eritrea</td>\n",
              "      <td>ERI</td>\n",
              "      <td>0.0</td>\n",
              "      <td>0</td>\n",
              "      <td>1</td>\n",
              "      <td>0.0</td>\n",
              "      <td>0.0</td>\n",
              "      <td>0.0</td>\n",
              "      <td>0.0</td>\n",
              "      <td>0.0</td>\n",
              "      <td>0.0</td>\n",
              "      <td>0.0</td>\n",
              "      <td>0.0</td>\n",
              "      <td>CAF</td>\n",
              "      <td>2018-06-07</td>\n",
              "    </tr>\n",
              "    <tr>\n",
              "      <th>57791</th>\n",
              "      <td>206</td>\n",
              "      <td>Somalia</td>\n",
              "      <td>SOM</td>\n",
              "      <td>0.0</td>\n",
              "      <td>0</td>\n",
              "      <td>1</td>\n",
              "      <td>0.0</td>\n",
              "      <td>0.0</td>\n",
              "      <td>0.0</td>\n",
              "      <td>0.0</td>\n",
              "      <td>0.0</td>\n",
              "      <td>0.0</td>\n",
              "      <td>0.0</td>\n",
              "      <td>0.0</td>\n",
              "      <td>CAF</td>\n",
              "      <td>2018-06-07</td>\n",
              "    </tr>\n",
              "    <tr>\n",
              "      <th>57792</th>\n",
              "      <td>206</td>\n",
              "      <td>Tonga</td>\n",
              "      <td>TGA</td>\n",
              "      <td>0.0</td>\n",
              "      <td>0</td>\n",
              "      <td>1</td>\n",
              "      <td>0.0</td>\n",
              "      <td>0.0</td>\n",
              "      <td>0.0</td>\n",
              "      <td>0.0</td>\n",
              "      <td>0.0</td>\n",
              "      <td>0.0</td>\n",
              "      <td>0.0</td>\n",
              "      <td>0.0</td>\n",
              "      <td>OFC</td>\n",
              "      <td>2018-06-07</td>\n",
              "    </tr>\n",
              "  </tbody>\n",
              "</table>\n",
              "</div>"
            ],
            "text/plain": [
              "       rank country_full  ... confederation   rank_date\n",
              "57788   206     Anguilla  ...      CONCACAF  2018-06-07\n",
              "57789   206      Bahamas  ...      CONCACAF  2018-06-07\n",
              "57790   206      Eritrea  ...           CAF  2018-06-07\n",
              "57791   206      Somalia  ...           CAF  2018-06-07\n",
              "57792   206        Tonga  ...           OFC  2018-06-07\n",
              "\n",
              "[5 rows x 16 columns]"
            ]
          },
          "metadata": {
            "tags": []
          },
          "execution_count": 4
        }
      ]
    },
    {
      "cell_type": "code",
      "metadata": {
        "id": "ueEwlsopAniW",
        "colab_type": "code",
        "colab": {
          "base_uri": "https://localhost:8080/",
          "height": 33
        },
        "outputId": "d2e8d3d8-7eec-4755-f4af-0685fc4734b2"
      },
      "source": [
        "#Checking the shape of the data set(rows and columns)\n",
        "fifa.shape\n"
      ],
      "execution_count": null,
      "outputs": [
        {
          "output_type": "execute_result",
          "data": {
            "text/plain": [
              "(57793, 16)"
            ]
          },
          "metadata": {
            "tags": []
          },
          "execution_count": 4
        }
      ]
    },
    {
      "cell_type": "markdown",
      "metadata": {
        "id": "PHq4tQIlA4Ke",
        "colab_type": "text"
      },
      "source": [
        "This dataset has 57793 rows and 16 columns"
      ]
    },
    {
      "cell_type": "code",
      "metadata": {
        "id": "FiY8uI_TA9Pm",
        "colab_type": "code",
        "colab": {
          "base_uri": "https://localhost:8080/",
          "height": 117
        },
        "outputId": "5527a201-fc89-4bf1-9940-a4e5682a7a84"
      },
      "source": [
        "# checking the column names of our dataset\n",
        "fifa.columns\n",
        "#This shows the all my 16 columns in the fifa ranking dataset"
      ],
      "execution_count": null,
      "outputs": [
        {
          "output_type": "execute_result",
          "data": {
            "text/plain": [
              "Index(['rank', 'country_full', 'country_abrv', 'total_points',\n",
              "       'previous_points', 'rank_change', 'cur_year_avg',\n",
              "       'cur_year_avg_weighted', 'last_year_avg', 'last_year_avg_weighted',\n",
              "       'two_year_ago_avg', 'two_year_ago_weighted', 'three_year_ago_avg',\n",
              "       'three_year_ago_weighted', 'confederation', 'rank_date'],\n",
              "      dtype='object')"
            ]
          },
          "metadata": {
            "tags": []
          },
          "execution_count": 5
        }
      ]
    },
    {
      "cell_type": "code",
      "metadata": {
        "id": "wAEsuYJ9BCyr",
        "colab_type": "code",
        "colab": {
          "base_uri": "https://localhost:8080/",
          "height": 400
        },
        "outputId": "359423e8-2b52-41c6-dfe9-c8736d6be061"
      },
      "source": [
        "# Understanding datatypes the dataset\n",
        "fifa.dtypes\n",
        "fifa.info()"
      ],
      "execution_count": null,
      "outputs": [
        {
          "output_type": "stream",
          "text": [
            "<class 'pandas.core.frame.DataFrame'>\n",
            "RangeIndex: 57793 entries, 0 to 57792\n",
            "Data columns (total 16 columns):\n",
            " #   Column                   Non-Null Count  Dtype  \n",
            "---  ------                   --------------  -----  \n",
            " 0   rank                     57793 non-null  int64  \n",
            " 1   country_full             57793 non-null  object \n",
            " 2   country_abrv             57793 non-null  object \n",
            " 3   total_points             57793 non-null  float64\n",
            " 4   previous_points          57793 non-null  int64  \n",
            " 5   rank_change              57793 non-null  int64  \n",
            " 6   cur_year_avg             57793 non-null  float64\n",
            " 7   cur_year_avg_weighted    57793 non-null  float64\n",
            " 8   last_year_avg            57793 non-null  float64\n",
            " 9   last_year_avg_weighted   57793 non-null  float64\n",
            " 10  two_year_ago_avg         57793 non-null  float64\n",
            " 11  two_year_ago_weighted    57793 non-null  float64\n",
            " 12  three_year_ago_avg       57793 non-null  float64\n",
            " 13  three_year_ago_weighted  57793 non-null  float64\n",
            " 14  confederation            57793 non-null  object \n",
            " 15  rank_date                57793 non-null  object \n",
            "dtypes: float64(9), int64(3), object(4)\n",
            "memory usage: 7.1+ MB\n"
          ],
          "name": "stdout"
        }
      ]
    },
    {
      "cell_type": "markdown",
      "metadata": {
        "id": "-8BEHz6ZBIIT",
        "colab_type": "text"
      },
      "source": [
        "This displays the datatype of each columns"
      ]
    },
    {
      "cell_type": "code",
      "metadata": {
        "id": "9Q_4YShDBR5s",
        "colab_type": "code",
        "colab": {
          "base_uri": "https://localhost:8080/",
          "height": 300
        },
        "outputId": "c1de5aa1-22d9-4401-e01d-64a3ebdc9b55"
      },
      "source": [
        "#Looking for null values\n",
        "fifa.isnull().sum()\n",
        "#The dataset has no null values"
      ],
      "execution_count": null,
      "outputs": [
        {
          "output_type": "execute_result",
          "data": {
            "text/plain": [
              "rank                       0\n",
              "country_full               0\n",
              "country_abrv               0\n",
              "total_points               0\n",
              "previous_points            0\n",
              "rank_change                0\n",
              "cur_year_avg               0\n",
              "cur_year_avg_weighted      0\n",
              "last_year_avg              0\n",
              "last_year_avg_weighted     0\n",
              "two_year_ago_avg           0\n",
              "two_year_ago_weighted      0\n",
              "three_year_ago_avg         0\n",
              "three_year_ago_weighted    0\n",
              "confederation              0\n",
              "rank_date                  0\n",
              "dtype: int64"
            ]
          },
          "metadata": {
            "tags": []
          },
          "execution_count": 7
        }
      ]
    },
    {
      "cell_type": "code",
      "metadata": {
        "id": "u7H54-YyBc91",
        "colab_type": "code",
        "colab": {}
      },
      "source": [
        "# Loading the dataset\n",
        "# I then load the results dataset\n",
        "results_df = pd.read_csv('results.csv')\n"
      ],
      "execution_count": null,
      "outputs": []
    },
    {
      "cell_type": "code",
      "metadata": {
        "id": "NkdaegDRBgD2",
        "colab_type": "code",
        "colab": {
          "base_uri": "https://localhost:8080/",
          "height": 197
        },
        "outputId": "f76ee26f-1059-4023-8fb7-85b768c246f2"
      },
      "source": [
        "# Previewing the Dataset\n",
        "# ---\n",
        "#\n",
        "results_df.head()\n",
        "#This displays the first 5 entries"
      ],
      "execution_count": null,
      "outputs": [
        {
          "output_type": "execute_result",
          "data": {
            "text/html": [
              "<div>\n",
              "<style scoped>\n",
              "    .dataframe tbody tr th:only-of-type {\n",
              "        vertical-align: middle;\n",
              "    }\n",
              "\n",
              "    .dataframe tbody tr th {\n",
              "        vertical-align: top;\n",
              "    }\n",
              "\n",
              "    .dataframe thead th {\n",
              "        text-align: right;\n",
              "    }\n",
              "</style>\n",
              "<table border=\"1\" class=\"dataframe\">\n",
              "  <thead>\n",
              "    <tr style=\"text-align: right;\">\n",
              "      <th></th>\n",
              "      <th>date</th>\n",
              "      <th>home_team</th>\n",
              "      <th>away_team</th>\n",
              "      <th>home_score</th>\n",
              "      <th>away_score</th>\n",
              "      <th>tournament</th>\n",
              "      <th>city</th>\n",
              "      <th>country</th>\n",
              "      <th>neutral</th>\n",
              "    </tr>\n",
              "  </thead>\n",
              "  <tbody>\n",
              "    <tr>\n",
              "      <th>0</th>\n",
              "      <td>1872-11-30</td>\n",
              "      <td>Scotland</td>\n",
              "      <td>England</td>\n",
              "      <td>0</td>\n",
              "      <td>0</td>\n",
              "      <td>Friendly</td>\n",
              "      <td>Glasgow</td>\n",
              "      <td>Scotland</td>\n",
              "      <td>False</td>\n",
              "    </tr>\n",
              "    <tr>\n",
              "      <th>1</th>\n",
              "      <td>1873-03-08</td>\n",
              "      <td>England</td>\n",
              "      <td>Scotland</td>\n",
              "      <td>4</td>\n",
              "      <td>2</td>\n",
              "      <td>Friendly</td>\n",
              "      <td>London</td>\n",
              "      <td>England</td>\n",
              "      <td>False</td>\n",
              "    </tr>\n",
              "    <tr>\n",
              "      <th>2</th>\n",
              "      <td>1874-03-07</td>\n",
              "      <td>Scotland</td>\n",
              "      <td>England</td>\n",
              "      <td>2</td>\n",
              "      <td>1</td>\n",
              "      <td>Friendly</td>\n",
              "      <td>Glasgow</td>\n",
              "      <td>Scotland</td>\n",
              "      <td>False</td>\n",
              "    </tr>\n",
              "    <tr>\n",
              "      <th>3</th>\n",
              "      <td>1875-03-06</td>\n",
              "      <td>England</td>\n",
              "      <td>Scotland</td>\n",
              "      <td>2</td>\n",
              "      <td>2</td>\n",
              "      <td>Friendly</td>\n",
              "      <td>London</td>\n",
              "      <td>England</td>\n",
              "      <td>False</td>\n",
              "    </tr>\n",
              "    <tr>\n",
              "      <th>4</th>\n",
              "      <td>1876-03-04</td>\n",
              "      <td>Scotland</td>\n",
              "      <td>England</td>\n",
              "      <td>3</td>\n",
              "      <td>0</td>\n",
              "      <td>Friendly</td>\n",
              "      <td>Glasgow</td>\n",
              "      <td>Scotland</td>\n",
              "      <td>False</td>\n",
              "    </tr>\n",
              "  </tbody>\n",
              "</table>\n",
              "</div>"
            ],
            "text/plain": [
              "         date home_team away_team  ...     city   country neutral\n",
              "0  1872-11-30  Scotland   England  ...  Glasgow  Scotland   False\n",
              "1  1873-03-08   England  Scotland  ...   London   England   False\n",
              "2  1874-03-07  Scotland   England  ...  Glasgow  Scotland   False\n",
              "3  1875-03-06   England  Scotland  ...   London   England   False\n",
              "4  1876-03-04  Scotland   England  ...  Glasgow  Scotland   False\n",
              "\n",
              "[5 rows x 9 columns]"
            ]
          },
          "metadata": {
            "tags": []
          },
          "execution_count": 10
        }
      ]
    },
    {
      "cell_type": "code",
      "metadata": {
        "id": "sFyTDP8YBmBv",
        "colab_type": "code",
        "colab": {
          "base_uri": "https://localhost:8080/",
          "height": 197
        },
        "outputId": "bc3db815-7c36-4ea5-fff9-d1702f301f6f"
      },
      "source": [
        "#Previewing the bottom of our dataset\n",
        "results_df.tail()\n",
        "#This displays last 5 entries"
      ],
      "execution_count": null,
      "outputs": [
        {
          "output_type": "execute_result",
          "data": {
            "text/html": [
              "<div>\n",
              "<style scoped>\n",
              "    .dataframe tbody tr th:only-of-type {\n",
              "        vertical-align: middle;\n",
              "    }\n",
              "\n",
              "    .dataframe tbody tr th {\n",
              "        vertical-align: top;\n",
              "    }\n",
              "\n",
              "    .dataframe thead th {\n",
              "        text-align: right;\n",
              "    }\n",
              "</style>\n",
              "<table border=\"1\" class=\"dataframe\">\n",
              "  <thead>\n",
              "    <tr style=\"text-align: right;\">\n",
              "      <th></th>\n",
              "      <th>date</th>\n",
              "      <th>home_team</th>\n",
              "      <th>away_team</th>\n",
              "      <th>home_score</th>\n",
              "      <th>away_score</th>\n",
              "      <th>tournament</th>\n",
              "      <th>city</th>\n",
              "      <th>country</th>\n",
              "      <th>neutral</th>\n",
              "    </tr>\n",
              "  </thead>\n",
              "  <tbody>\n",
              "    <tr>\n",
              "      <th>40834</th>\n",
              "      <td>2019-07-18</td>\n",
              "      <td>American Samoa</td>\n",
              "      <td>Tahiti</td>\n",
              "      <td>8</td>\n",
              "      <td>1</td>\n",
              "      <td>Pacific Games</td>\n",
              "      <td>Apia</td>\n",
              "      <td>Samoa</td>\n",
              "      <td>True</td>\n",
              "    </tr>\n",
              "    <tr>\n",
              "      <th>40835</th>\n",
              "      <td>2019-07-18</td>\n",
              "      <td>Fiji</td>\n",
              "      <td>Solomon Islands</td>\n",
              "      <td>4</td>\n",
              "      <td>4</td>\n",
              "      <td>Pacific Games</td>\n",
              "      <td>Apia</td>\n",
              "      <td>Samoa</td>\n",
              "      <td>True</td>\n",
              "    </tr>\n",
              "    <tr>\n",
              "      <th>40836</th>\n",
              "      <td>2019-07-19</td>\n",
              "      <td>Senegal</td>\n",
              "      <td>Algeria</td>\n",
              "      <td>0</td>\n",
              "      <td>1</td>\n",
              "      <td>African Cup of Nations</td>\n",
              "      <td>Cairo</td>\n",
              "      <td>Egypt</td>\n",
              "      <td>True</td>\n",
              "    </tr>\n",
              "    <tr>\n",
              "      <th>40837</th>\n",
              "      <td>2019-07-19</td>\n",
              "      <td>Tajikistan</td>\n",
              "      <td>North Korea</td>\n",
              "      <td>0</td>\n",
              "      <td>1</td>\n",
              "      <td>Intercontinental Cup</td>\n",
              "      <td>Ahmedabad</td>\n",
              "      <td>India</td>\n",
              "      <td>True</td>\n",
              "    </tr>\n",
              "    <tr>\n",
              "      <th>40838</th>\n",
              "      <td>2019-07-20</td>\n",
              "      <td>Papua New Guinea</td>\n",
              "      <td>Fiji</td>\n",
              "      <td>1</td>\n",
              "      <td>1</td>\n",
              "      <td>Pacific Games</td>\n",
              "      <td>Apia</td>\n",
              "      <td>Samoa</td>\n",
              "      <td>True</td>\n",
              "    </tr>\n",
              "  </tbody>\n",
              "</table>\n",
              "</div>"
            ],
            "text/plain": [
              "             date         home_team  ... country  neutral\n",
              "40834  2019-07-18    American Samoa  ...   Samoa     True\n",
              "40835  2019-07-18              Fiji  ...   Samoa     True\n",
              "40836  2019-07-19           Senegal  ...   Egypt     True\n",
              "40837  2019-07-19        Tajikistan  ...   India     True\n",
              "40838  2019-07-20  Papua New Guinea  ...   Samoa     True\n",
              "\n",
              "[5 rows x 9 columns]"
            ]
          },
          "metadata": {
            "tags": []
          },
          "execution_count": 9
        }
      ]
    },
    {
      "cell_type": "code",
      "metadata": {
        "id": "CJflK9-lBsYQ",
        "colab_type": "code",
        "colab": {
          "base_uri": "https://localhost:8080/",
          "height": 283
        },
        "outputId": "c9afe721-2d69-4bc1-9474-c72f54bc255e"
      },
      "source": [
        "results_df.info()\n",
        "#This gives a better understanding of the column datatypes."
      ],
      "execution_count": null,
      "outputs": [
        {
          "output_type": "stream",
          "text": [
            "<class 'pandas.core.frame.DataFrame'>\n",
            "RangeIndex: 40839 entries, 0 to 40838\n",
            "Data columns (total 9 columns):\n",
            " #   Column      Non-Null Count  Dtype \n",
            "---  ------      --------------  ----- \n",
            " 0   date        40839 non-null  object\n",
            " 1   home_team   40839 non-null  object\n",
            " 2   away_team   40839 non-null  object\n",
            " 3   home_score  40839 non-null  int64 \n",
            " 4   away_score  40839 non-null  int64 \n",
            " 5   tournament  40839 non-null  object\n",
            " 6   city        40839 non-null  object\n",
            " 7   country     40839 non-null  object\n",
            " 8   neutral     40839 non-null  bool  \n",
            "dtypes: bool(1), int64(2), object(6)\n",
            "memory usage: 2.5+ MB\n"
          ],
          "name": "stdout"
        }
      ]
    },
    {
      "cell_type": "code",
      "metadata": {
        "id": "Ijzu7-ezByc7",
        "colab_type": "code",
        "colab": {
          "base_uri": "https://localhost:8080/",
          "height": 183
        },
        "outputId": "e6bf7501-dbb4-4b06-c32d-72b5ae42bbd0"
      },
      "source": [
        "#Checking for null values\n",
        "results_df.isnull().sum()\n",
        "#There are no null values in this dataset."
      ],
      "execution_count": null,
      "outputs": [
        {
          "output_type": "execute_result",
          "data": {
            "text/plain": [
              "date          0\n",
              "home_team     0\n",
              "away_team     0\n",
              "home_score    0\n",
              "away_score    0\n",
              "tournament    0\n",
              "city          0\n",
              "country       0\n",
              "neutral       0\n",
              "dtype: int64"
            ]
          },
          "metadata": {
            "tags": []
          },
          "execution_count": 10
        }
      ]
    },
    {
      "cell_type": "code",
      "metadata": {
        "id": "syOaQ_yoB-uH",
        "colab_type": "code",
        "colab": {
          "base_uri": "https://localhost:8080/",
          "height": 33
        },
        "outputId": "8a02a75c-e897-4959-99c1-ace78adbf697"
      },
      "source": [
        "# check for duplicates in fifa dataset\n",
        "fifa.duplicated().sum()\n"
      ],
      "execution_count": null,
      "outputs": [
        {
          "output_type": "execute_result",
          "data": {
            "text/plain": [
              "37"
            ]
          },
          "metadata": {
            "tags": []
          },
          "execution_count": 11
        }
      ]
    },
    {
      "cell_type": "markdown",
      "metadata": {
        "id": "_6_6VudQCHYT",
        "colab_type": "text"
      },
      "source": [
        "It seems that there are duplicates in the fifa dataset, i will drop them."
      ]
    },
    {
      "cell_type": "code",
      "metadata": {
        "id": "tkXR_xXCCNPk",
        "colab_type": "code",
        "colab": {
          "base_uri": "https://localhost:8080/",
          "height": 33
        },
        "outputId": "728d9fd5-27a0-484e-86a8-95775fee79e2"
      },
      "source": [
        "# check for duplicates in results dataset\n",
        "results_df.duplicated().sum()"
      ],
      "execution_count": null,
      "outputs": [
        {
          "output_type": "execute_result",
          "data": {
            "text/plain": [
              "0"
            ]
          },
          "metadata": {
            "tags": []
          },
          "execution_count": 12
        }
      ]
    },
    {
      "cell_type": "code",
      "metadata": {
        "id": "W53C2voIDHgV",
        "colab_type": "code",
        "colab": {}
      },
      "source": [
        "# Drop the duplicates in fifa dataset\n",
        "fifa = fifa.drop_duplicates()"
      ],
      "execution_count": null,
      "outputs": []
    },
    {
      "cell_type": "code",
      "metadata": {
        "id": "CfFoiNOUDLJJ",
        "colab_type": "code",
        "colab": {
          "base_uri": "https://localhost:8080/",
          "height": 33
        },
        "outputId": "e6a4b1af-4f23-4887-c2bf-895d70c40a1b"
      },
      "source": [
        "#Confirm that the duplicates have been dropped in fifa dataset\n",
        "fifa.shape\n",
        "# The duplicates have been dropped number of entries reducedfrom 57793 entries to 57756"
      ],
      "execution_count": null,
      "outputs": [
        {
          "output_type": "execute_result",
          "data": {
            "text/plain": [
              "(57756, 16)"
            ]
          },
          "metadata": {
            "tags": []
          },
          "execution_count": 14
        }
      ]
    },
    {
      "cell_type": "markdown",
      "metadata": {
        "id": "VDXbFJqDDkH_",
        "colab_type": "text"
      },
      "source": [
        "6.Work with a merged dataset.\n",
        "\n",
        "I have to merge my Results dataset and fifa dataset."
      ]
    },
    {
      "cell_type": "code",
      "metadata": {
        "id": "dMDQcf1vDRLP",
        "colab_type": "code",
        "colab": {
          "base_uri": "https://localhost:8080/",
          "height": 351
        },
        "outputId": "4e224299-bfec-47ea-9d62-eba19a558c6a"
      },
      "source": [
        "\n",
        "df = results_df.merge(fifa, how = 'inner', left_on = ['date', 'home_team'], right_on = ['rank_date', 'country_full'])\n",
        "df.head()\n",
        "# now to get the rank of the away team on the day of the match\n",
        "df = df.merge(fifa, how = 'inner' ,left_on = ['date', 'away_team'], right_on = ['rank_date', 'country_full'],suffixes=('_home', '_away'))\n",
        "df.head()\n",
        "#df.info\n",
        "#My final dataset now has  871 columns. Since it is an inner join it ignores values that do not match in the 2 dataframes so it does not include replicated data.\n",
        "#An inner join allows me to merge different recors based on whether it is a left join or a right join.\n",
        "#An outer join will result in different records not matching so it results in NAN values\n"
      ],
      "execution_count": null,
      "outputs": [
        {
          "output_type": "execute_result",
          "data": {
            "text/html": [
              "<div>\n",
              "<style scoped>\n",
              "    .dataframe tbody tr th:only-of-type {\n",
              "        vertical-align: middle;\n",
              "    }\n",
              "\n",
              "    .dataframe tbody tr th {\n",
              "        vertical-align: top;\n",
              "    }\n",
              "\n",
              "    .dataframe thead th {\n",
              "        text-align: right;\n",
              "    }\n",
              "</style>\n",
              "<table border=\"1\" class=\"dataframe\">\n",
              "  <thead>\n",
              "    <tr style=\"text-align: right;\">\n",
              "      <th></th>\n",
              "      <th>date</th>\n",
              "      <th>home_team</th>\n",
              "      <th>away_team</th>\n",
              "      <th>home_score</th>\n",
              "      <th>away_score</th>\n",
              "      <th>tournament</th>\n",
              "      <th>city</th>\n",
              "      <th>country</th>\n",
              "      <th>neutral</th>\n",
              "      <th>rank_home</th>\n",
              "      <th>country_full_home</th>\n",
              "      <th>country_abrv_home</th>\n",
              "      <th>total_points_home</th>\n",
              "      <th>previous_points_home</th>\n",
              "      <th>rank_change_home</th>\n",
              "      <th>cur_year_avg_home</th>\n",
              "      <th>cur_year_avg_weighted_home</th>\n",
              "      <th>last_year_avg_home</th>\n",
              "      <th>last_year_avg_weighted_home</th>\n",
              "      <th>two_year_ago_avg_home</th>\n",
              "      <th>two_year_ago_weighted_home</th>\n",
              "      <th>three_year_ago_avg_home</th>\n",
              "      <th>three_year_ago_weighted_home</th>\n",
              "      <th>confederation_home</th>\n",
              "      <th>rank_date_home</th>\n",
              "      <th>rank_away</th>\n",
              "      <th>country_full_away</th>\n",
              "      <th>country_abrv_away</th>\n",
              "      <th>total_points_away</th>\n",
              "      <th>previous_points_away</th>\n",
              "      <th>rank_change_away</th>\n",
              "      <th>cur_year_avg_away</th>\n",
              "      <th>cur_year_avg_weighted_away</th>\n",
              "      <th>last_year_avg_away</th>\n",
              "      <th>last_year_avg_weighted_away</th>\n",
              "      <th>two_year_ago_avg_away</th>\n",
              "      <th>two_year_ago_weighted_away</th>\n",
              "      <th>three_year_ago_avg_away</th>\n",
              "      <th>three_year_ago_weighted_away</th>\n",
              "      <th>confederation_away</th>\n",
              "      <th>rank_date_away</th>\n",
              "    </tr>\n",
              "  </thead>\n",
              "  <tbody>\n",
              "    <tr>\n",
              "      <th>0</th>\n",
              "      <td>1993-08-08</td>\n",
              "      <td>Bolivia</td>\n",
              "      <td>Uruguay</td>\n",
              "      <td>3</td>\n",
              "      <td>1</td>\n",
              "      <td>FIFA World Cup qualification</td>\n",
              "      <td>La Paz</td>\n",
              "      <td>Bolivia</td>\n",
              "      <td>False</td>\n",
              "      <td>59</td>\n",
              "      <td>Bolivia</td>\n",
              "      <td>BOL</td>\n",
              "      <td>0.0</td>\n",
              "      <td>13</td>\n",
              "      <td>28</td>\n",
              "      <td>0.0</td>\n",
              "      <td>0.0</td>\n",
              "      <td>0.0</td>\n",
              "      <td>0.0</td>\n",
              "      <td>0.0</td>\n",
              "      <td>0.0</td>\n",
              "      <td>0.0</td>\n",
              "      <td>0.0</td>\n",
              "      <td>CONMEBOL</td>\n",
              "      <td>1993-08-08</td>\n",
              "      <td>22</td>\n",
              "      <td>Uruguay</td>\n",
              "      <td>URU</td>\n",
              "      <td>0.0</td>\n",
              "      <td>47</td>\n",
              "      <td>-6</td>\n",
              "      <td>0.0</td>\n",
              "      <td>0.0</td>\n",
              "      <td>0.0</td>\n",
              "      <td>0.0</td>\n",
              "      <td>0.0</td>\n",
              "      <td>0.0</td>\n",
              "      <td>0.0</td>\n",
              "      <td>0.0</td>\n",
              "      <td>CONMEBOL</td>\n",
              "      <td>1993-08-08</td>\n",
              "    </tr>\n",
              "    <tr>\n",
              "      <th>1</th>\n",
              "      <td>1993-08-08</td>\n",
              "      <td>Brazil</td>\n",
              "      <td>Mexico</td>\n",
              "      <td>1</td>\n",
              "      <td>1</td>\n",
              "      <td>Friendly</td>\n",
              "      <td>Maceió</td>\n",
              "      <td>Brazil</td>\n",
              "      <td>False</td>\n",
              "      <td>8</td>\n",
              "      <td>Brazil</td>\n",
              "      <td>BRA</td>\n",
              "      <td>0.0</td>\n",
              "      <td>55</td>\n",
              "      <td>-5</td>\n",
              "      <td>0.0</td>\n",
              "      <td>0.0</td>\n",
              "      <td>0.0</td>\n",
              "      <td>0.0</td>\n",
              "      <td>0.0</td>\n",
              "      <td>0.0</td>\n",
              "      <td>0.0</td>\n",
              "      <td>0.0</td>\n",
              "      <td>CONMEBOL</td>\n",
              "      <td>1993-08-08</td>\n",
              "      <td>14</td>\n",
              "      <td>Mexico</td>\n",
              "      <td>MEX</td>\n",
              "      <td>0.0</td>\n",
              "      <td>42</td>\n",
              "      <td>11</td>\n",
              "      <td>0.0</td>\n",
              "      <td>0.0</td>\n",
              "      <td>0.0</td>\n",
              "      <td>0.0</td>\n",
              "      <td>0.0</td>\n",
              "      <td>0.0</td>\n",
              "      <td>0.0</td>\n",
              "      <td>0.0</td>\n",
              "      <td>CONCACAF</td>\n",
              "      <td>1993-08-08</td>\n",
              "    </tr>\n",
              "    <tr>\n",
              "      <th>2</th>\n",
              "      <td>1993-08-08</td>\n",
              "      <td>Ecuador</td>\n",
              "      <td>Venezuela</td>\n",
              "      <td>5</td>\n",
              "      <td>0</td>\n",
              "      <td>FIFA World Cup qualification</td>\n",
              "      <td>Quito</td>\n",
              "      <td>Ecuador</td>\n",
              "      <td>False</td>\n",
              "      <td>35</td>\n",
              "      <td>Ecuador</td>\n",
              "      <td>ECU</td>\n",
              "      <td>0.0</td>\n",
              "      <td>23</td>\n",
              "      <td>30</td>\n",
              "      <td>0.0</td>\n",
              "      <td>0.0</td>\n",
              "      <td>0.0</td>\n",
              "      <td>0.0</td>\n",
              "      <td>0.0</td>\n",
              "      <td>0.0</td>\n",
              "      <td>0.0</td>\n",
              "      <td>0.0</td>\n",
              "      <td>CONMEBOL</td>\n",
              "      <td>1993-08-08</td>\n",
              "      <td>94</td>\n",
              "      <td>Venezuela</td>\n",
              "      <td>VEN</td>\n",
              "      <td>0.0</td>\n",
              "      <td>4</td>\n",
              "      <td>31</td>\n",
              "      <td>0.0</td>\n",
              "      <td>0.0</td>\n",
              "      <td>0.0</td>\n",
              "      <td>0.0</td>\n",
              "      <td>0.0</td>\n",
              "      <td>0.0</td>\n",
              "      <td>0.0</td>\n",
              "      <td>0.0</td>\n",
              "      <td>CONMEBOL</td>\n",
              "      <td>1993-08-08</td>\n",
              "    </tr>\n",
              "    <tr>\n",
              "      <th>3</th>\n",
              "      <td>1993-08-08</td>\n",
              "      <td>Guinea</td>\n",
              "      <td>Sierra Leone</td>\n",
              "      <td>1</td>\n",
              "      <td>0</td>\n",
              "      <td>Friendly</td>\n",
              "      <td>Conakry</td>\n",
              "      <td>Guinea</td>\n",
              "      <td>False</td>\n",
              "      <td>65</td>\n",
              "      <td>Guinea</td>\n",
              "      <td>GUI</td>\n",
              "      <td>0.0</td>\n",
              "      <td>23</td>\n",
              "      <td>-2</td>\n",
              "      <td>0.0</td>\n",
              "      <td>0.0</td>\n",
              "      <td>0.0</td>\n",
              "      <td>0.0</td>\n",
              "      <td>0.0</td>\n",
              "      <td>0.0</td>\n",
              "      <td>0.0</td>\n",
              "      <td>0.0</td>\n",
              "      <td>CAF</td>\n",
              "      <td>1993-08-08</td>\n",
              "      <td>86</td>\n",
              "      <td>Sierra Leone</td>\n",
              "      <td>SLE</td>\n",
              "      <td>0.0</td>\n",
              "      <td>16</td>\n",
              "      <td>-7</td>\n",
              "      <td>0.0</td>\n",
              "      <td>0.0</td>\n",
              "      <td>0.0</td>\n",
              "      <td>0.0</td>\n",
              "      <td>0.0</td>\n",
              "      <td>0.0</td>\n",
              "      <td>0.0</td>\n",
              "      <td>0.0</td>\n",
              "      <td>CAF</td>\n",
              "      <td>1993-08-08</td>\n",
              "    </tr>\n",
              "    <tr>\n",
              "      <th>4</th>\n",
              "      <td>1993-08-08</td>\n",
              "      <td>Paraguay</td>\n",
              "      <td>Argentina</td>\n",
              "      <td>1</td>\n",
              "      <td>3</td>\n",
              "      <td>FIFA World Cup qualification</td>\n",
              "      <td>Asunción</td>\n",
              "      <td>Paraguay</td>\n",
              "      <td>False</td>\n",
              "      <td>67</td>\n",
              "      <td>Paraguay</td>\n",
              "      <td>PAR</td>\n",
              "      <td>0.0</td>\n",
              "      <td>22</td>\n",
              "      <td>1</td>\n",
              "      <td>0.0</td>\n",
              "      <td>0.0</td>\n",
              "      <td>0.0</td>\n",
              "      <td>0.0</td>\n",
              "      <td>0.0</td>\n",
              "      <td>0.0</td>\n",
              "      <td>0.0</td>\n",
              "      <td>0.0</td>\n",
              "      <td>CONMEBOL</td>\n",
              "      <td>1993-08-08</td>\n",
              "      <td>5</td>\n",
              "      <td>Argentina</td>\n",
              "      <td>ARG</td>\n",
              "      <td>0.0</td>\n",
              "      <td>51</td>\n",
              "      <td>5</td>\n",
              "      <td>0.0</td>\n",
              "      <td>0.0</td>\n",
              "      <td>0.0</td>\n",
              "      <td>0.0</td>\n",
              "      <td>0.0</td>\n",
              "      <td>0.0</td>\n",
              "      <td>0.0</td>\n",
              "      <td>0.0</td>\n",
              "      <td>CONMEBOL</td>\n",
              "      <td>1993-08-08</td>\n",
              "    </tr>\n",
              "  </tbody>\n",
              "</table>\n",
              "</div>"
            ],
            "text/plain": [
              "         date home_team  ... confederation_away  rank_date_away\n",
              "0  1993-08-08   Bolivia  ...           CONMEBOL      1993-08-08\n",
              "1  1993-08-08    Brazil  ...           CONCACAF      1993-08-08\n",
              "2  1993-08-08   Ecuador  ...           CONMEBOL      1993-08-08\n",
              "3  1993-08-08    Guinea  ...                CAF      1993-08-08\n",
              "4  1993-08-08  Paraguay  ...           CONMEBOL      1993-08-08\n",
              "\n",
              "[5 rows x 41 columns]"
            ]
          },
          "metadata": {
            "tags": []
          },
          "execution_count": 15
        }
      ]
    },
    {
      "cell_type": "code",
      "metadata": {
        "id": "A86g0Y8DJKXy",
        "colab_type": "code",
        "colab": {}
      },
      "source": [
        "#This code splits my date column to year \n",
        "df[\"Year\"] =pd.to_datetime(fifa[\"rank_date\"]).dt.year"
      ],
      "execution_count": null,
      "outputs": []
    },
    {
      "cell_type": "code",
      "metadata": {
        "id": "38wBvLjMV5W-",
        "colab_type": "code",
        "colab": {
          "base_uri": "https://localhost:8080/",
          "height": 287
        },
        "outputId": "41558dee-1266-4a0c-b00e-703377bf2d30"
      },
      "source": [
        "df[df.home_team == 'Bolivia']"
      ],
      "execution_count": null,
      "outputs": [
        {
          "output_type": "execute_result",
          "data": {
            "text/html": [
              "<div>\n",
              "<style scoped>\n",
              "    .dataframe tbody tr th:only-of-type {\n",
              "        vertical-align: middle;\n",
              "    }\n",
              "\n",
              "    .dataframe tbody tr th {\n",
              "        vertical-align: top;\n",
              "    }\n",
              "\n",
              "    .dataframe thead th {\n",
              "        text-align: right;\n",
              "    }\n",
              "</style>\n",
              "<table border=\"1\" class=\"dataframe\">\n",
              "  <thead>\n",
              "    <tr style=\"text-align: right;\">\n",
              "      <th></th>\n",
              "      <th>date</th>\n",
              "      <th>home_team</th>\n",
              "      <th>away_team</th>\n",
              "      <th>home_score</th>\n",
              "      <th>away_score</th>\n",
              "      <th>tournament</th>\n",
              "      <th>city</th>\n",
              "      <th>country</th>\n",
              "      <th>neutral</th>\n",
              "      <th>rank_home</th>\n",
              "      <th>country_full_home</th>\n",
              "      <th>country_abrv_home</th>\n",
              "      <th>total_points_home</th>\n",
              "      <th>previous_points_home</th>\n",
              "      <th>rank_change_home</th>\n",
              "      <th>cur_year_avg_home</th>\n",
              "      <th>cur_year_avg_weighted_home</th>\n",
              "      <th>last_year_avg_home</th>\n",
              "      <th>last_year_avg_weighted_home</th>\n",
              "      <th>two_year_ago_avg_home</th>\n",
              "      <th>two_year_ago_weighted_home</th>\n",
              "      <th>three_year_ago_avg_home</th>\n",
              "      <th>three_year_ago_weighted_home</th>\n",
              "      <th>confederation_home</th>\n",
              "      <th>rank_date_home</th>\n",
              "      <th>rank_away</th>\n",
              "      <th>country_full_away</th>\n",
              "      <th>country_abrv_away</th>\n",
              "      <th>total_points_away</th>\n",
              "      <th>previous_points_away</th>\n",
              "      <th>rank_change_away</th>\n",
              "      <th>cur_year_avg_away</th>\n",
              "      <th>cur_year_avg_weighted_away</th>\n",
              "      <th>last_year_avg_away</th>\n",
              "      <th>last_year_avg_weighted_away</th>\n",
              "      <th>two_year_ago_avg_away</th>\n",
              "      <th>two_year_ago_weighted_away</th>\n",
              "      <th>three_year_ago_avg_away</th>\n",
              "      <th>three_year_ago_weighted_away</th>\n",
              "      <th>confederation_away</th>\n",
              "      <th>rank_date_away</th>\n",
              "      <th>Year</th>\n",
              "    </tr>\n",
              "  </thead>\n",
              "  <tbody>\n",
              "    <tr>\n",
              "      <th>0</th>\n",
              "      <td>1993-08-08</td>\n",
              "      <td>Bolivia</td>\n",
              "      <td>Uruguay</td>\n",
              "      <td>3</td>\n",
              "      <td>1</td>\n",
              "      <td>FIFA World Cup qualification</td>\n",
              "      <td>La Paz</td>\n",
              "      <td>Bolivia</td>\n",
              "      <td>False</td>\n",
              "      <td>59</td>\n",
              "      <td>Bolivia</td>\n",
              "      <td>BOL</td>\n",
              "      <td>0.0</td>\n",
              "      <td>13</td>\n",
              "      <td>28</td>\n",
              "      <td>0.0</td>\n",
              "      <td>0.0</td>\n",
              "      <td>0.0</td>\n",
              "      <td>0.0</td>\n",
              "      <td>0.0</td>\n",
              "      <td>0.0</td>\n",
              "      <td>0.0</td>\n",
              "      <td>0.0</td>\n",
              "      <td>CONMEBOL</td>\n",
              "      <td>1993-08-08</td>\n",
              "      <td>22</td>\n",
              "      <td>Uruguay</td>\n",
              "      <td>URU</td>\n",
              "      <td>0.0</td>\n",
              "      <td>47</td>\n",
              "      <td>-6</td>\n",
              "      <td>0.0</td>\n",
              "      <td>0.0</td>\n",
              "      <td>0.0</td>\n",
              "      <td>0.0</td>\n",
              "      <td>0.0</td>\n",
              "      <td>0.0</td>\n",
              "      <td>0.0</td>\n",
              "      <td>0.0</td>\n",
              "      <td>CONMEBOL</td>\n",
              "      <td>1993-08-08</td>\n",
              "      <td>1993</td>\n",
              "    </tr>\n",
              "    <tr>\n",
              "      <th>54</th>\n",
              "      <td>1997-06-18</td>\n",
              "      <td>Bolivia</td>\n",
              "      <td>Uruguay</td>\n",
              "      <td>1</td>\n",
              "      <td>0</td>\n",
              "      <td>Copa América</td>\n",
              "      <td>La Paz</td>\n",
              "      <td>Bolivia</td>\n",
              "      <td>False</td>\n",
              "      <td>34</td>\n",
              "      <td>Bolivia</td>\n",
              "      <td>BOL</td>\n",
              "      <td>0.0</td>\n",
              "      <td>48</td>\n",
              "      <td>-2</td>\n",
              "      <td>0.0</td>\n",
              "      <td>0.0</td>\n",
              "      <td>0.0</td>\n",
              "      <td>0.0</td>\n",
              "      <td>0.0</td>\n",
              "      <td>0.0</td>\n",
              "      <td>0.0</td>\n",
              "      <td>0.0</td>\n",
              "      <td>CONMEBOL</td>\n",
              "      <td>1997-06-18</td>\n",
              "      <td>51</td>\n",
              "      <td>Uruguay</td>\n",
              "      <td>URU</td>\n",
              "      <td>0.0</td>\n",
              "      <td>43</td>\n",
              "      <td>3</td>\n",
              "      <td>0.0</td>\n",
              "      <td>0.0</td>\n",
              "      <td>0.0</td>\n",
              "      <td>0.0</td>\n",
              "      <td>0.0</td>\n",
              "      <td>0.0</td>\n",
              "      <td>0.0</td>\n",
              "      <td>0.0</td>\n",
              "      <td>CONMEBOL</td>\n",
              "      <td>1997-06-18</td>\n",
              "      <td>1993</td>\n",
              "    </tr>\n",
              "    <tr>\n",
              "      <th>209</th>\n",
              "      <td>2000-11-15</td>\n",
              "      <td>Bolivia</td>\n",
              "      <td>Uruguay</td>\n",
              "      <td>0</td>\n",
              "      <td>0</td>\n",
              "      <td>FIFA World Cup qualification</td>\n",
              "      <td>La Paz</td>\n",
              "      <td>Bolivia</td>\n",
              "      <td>False</td>\n",
              "      <td>66</td>\n",
              "      <td>Bolivia</td>\n",
              "      <td>BOL</td>\n",
              "      <td>0.0</td>\n",
              "      <td>505</td>\n",
              "      <td>-1</td>\n",
              "      <td>0.0</td>\n",
              "      <td>0.0</td>\n",
              "      <td>0.0</td>\n",
              "      <td>0.0</td>\n",
              "      <td>0.0</td>\n",
              "      <td>0.0</td>\n",
              "      <td>0.0</td>\n",
              "      <td>0.0</td>\n",
              "      <td>CONMEBOL</td>\n",
              "      <td>2000-11-15</td>\n",
              "      <td>36</td>\n",
              "      <td>Uruguay</td>\n",
              "      <td>URU</td>\n",
              "      <td>0.0</td>\n",
              "      <td>582</td>\n",
              "      <td>-2</td>\n",
              "      <td>0.0</td>\n",
              "      <td>0.0</td>\n",
              "      <td>0.0</td>\n",
              "      <td>0.0</td>\n",
              "      <td>0.0</td>\n",
              "      <td>0.0</td>\n",
              "      <td>0.0</td>\n",
              "      <td>0.0</td>\n",
              "      <td>CONMEBOL</td>\n",
              "      <td>2000-11-15</td>\n",
              "      <td>1993</td>\n",
              "    </tr>\n",
              "    <tr>\n",
              "      <th>706</th>\n",
              "      <td>2010-08-11</td>\n",
              "      <td>Bolivia</td>\n",
              "      <td>Colombia</td>\n",
              "      <td>1</td>\n",
              "      <td>1</td>\n",
              "      <td>Friendly</td>\n",
              "      <td>La Paz</td>\n",
              "      <td>Bolivia</td>\n",
              "      <td>False</td>\n",
              "      <td>50</td>\n",
              "      <td>Bolivia</td>\n",
              "      <td>BOL</td>\n",
              "      <td>0.0</td>\n",
              "      <td>570</td>\n",
              "      <td>3</td>\n",
              "      <td>0.0</td>\n",
              "      <td>0.0</td>\n",
              "      <td>0.0</td>\n",
              "      <td>0.0</td>\n",
              "      <td>0.0</td>\n",
              "      <td>0.0</td>\n",
              "      <td>0.0</td>\n",
              "      <td>0.0</td>\n",
              "      <td>CONMEBOL</td>\n",
              "      <td>2010-08-11</td>\n",
              "      <td>36</td>\n",
              "      <td>Colombia</td>\n",
              "      <td>COL</td>\n",
              "      <td>0.0</td>\n",
              "      <td>725</td>\n",
              "      <td>3</td>\n",
              "      <td>0.0</td>\n",
              "      <td>0.0</td>\n",
              "      <td>0.0</td>\n",
              "      <td>0.0</td>\n",
              "      <td>0.0</td>\n",
              "      <td>0.0</td>\n",
              "      <td>0.0</td>\n",
              "      <td>0.0</td>\n",
              "      <td>CONMEBOL</td>\n",
              "      <td>2010-08-11</td>\n",
              "      <td>1993</td>\n",
              "    </tr>\n",
              "  </tbody>\n",
              "</table>\n",
              "</div>"
            ],
            "text/plain": [
              "           date home_team away_team  ...  confederation_away  rank_date_away  Year\n",
              "0    1993-08-08   Bolivia   Uruguay  ...            CONMEBOL      1993-08-08  1993\n",
              "54   1997-06-18   Bolivia   Uruguay  ...            CONMEBOL      1997-06-18  1993\n",
              "209  2000-11-15   Bolivia   Uruguay  ...            CONMEBOL      2000-11-15  1993\n",
              "706  2010-08-11   Bolivia  Colombia  ...            CONMEBOL      2010-08-11  1993\n",
              "\n",
              "[4 rows x 42 columns]"
            ]
          },
          "metadata": {
            "tags": []
          },
          "execution_count": 17
        }
      ]
    },
    {
      "cell_type": "code",
      "metadata": {
        "id": "ZA6NXedgDo5v",
        "colab_type": "code",
        "colab": {
          "base_uri": "https://localhost:8080/",
          "height": 733
        },
        "outputId": "335d15a3-96f5-4913-e14d-0eada73fb0e3"
      },
      "source": [
        "#Check for any missing values\n",
        "df.isnull().sum()\n",
        "#After the merge there are no null values."
      ],
      "execution_count": null,
      "outputs": [
        {
          "output_type": "execute_result",
          "data": {
            "text/plain": [
              "date                            0\n",
              "home_team                       0\n",
              "away_team                       0\n",
              "home_score                      0\n",
              "away_score                      0\n",
              "tournament                      0\n",
              "city                            0\n",
              "country                         0\n",
              "neutral                         0\n",
              "rank_home                       0\n",
              "country_full_home               0\n",
              "country_abrv_home               0\n",
              "total_points_home               0\n",
              "previous_points_home            0\n",
              "rank_change_home                0\n",
              "cur_year_avg_home               0\n",
              "cur_year_avg_weighted_home      0\n",
              "last_year_avg_home              0\n",
              "last_year_avg_weighted_home     0\n",
              "two_year_ago_avg_home           0\n",
              "two_year_ago_weighted_home      0\n",
              "three_year_ago_avg_home         0\n",
              "three_year_ago_weighted_home    0\n",
              "confederation_home              0\n",
              "rank_date_home                  0\n",
              "rank_away                       0\n",
              "country_full_away               0\n",
              "country_abrv_away               0\n",
              "total_points_away               0\n",
              "previous_points_away            0\n",
              "rank_change_away                0\n",
              "cur_year_avg_away               0\n",
              "cur_year_avg_weighted_away      0\n",
              "last_year_avg_away              0\n",
              "last_year_avg_weighted_away     0\n",
              "two_year_ago_avg_away           0\n",
              "two_year_ago_weighted_away      0\n",
              "three_year_ago_avg_away         0\n",
              "three_year_ago_weighted_away    0\n",
              "confederation_away              0\n",
              "rank_date_away                  0\n",
              "Year                            0\n",
              "dtype: int64"
            ]
          },
          "metadata": {
            "tags": []
          },
          "execution_count": 18
        }
      ]
    },
    {
      "cell_type": "markdown",
      "metadata": {
        "id": "YwbGMjFCDzps",
        "colab_type": "text"
      },
      "source": [
        "There are no null values in the merged dataset"
      ]
    },
    {
      "cell_type": "code",
      "metadata": {
        "id": "2RffrbCtD5G3",
        "colab_type": "code",
        "colab": {
          "base_uri": "https://localhost:8080/",
          "height": 33
        },
        "outputId": "42a1ad1c-8e65-4010-ddda-ae4f05346055"
      },
      "source": [
        "#Check for any duplicates in the merged dataset.\n",
        "df.duplicated().any()"
      ],
      "execution_count": null,
      "outputs": [
        {
          "output_type": "execute_result",
          "data": {
            "text/plain": [
              "False"
            ]
          },
          "metadata": {
            "tags": []
          },
          "execution_count": 19
        }
      ]
    },
    {
      "cell_type": "markdown",
      "metadata": {
        "id": "YV08PZwyEMVk",
        "colab_type": "text"
      },
      "source": [
        "There are no duplicates in my dataset."
      ]
    },
    {
      "cell_type": "code",
      "metadata": {
        "id": "9h_gesV7Bxdu",
        "colab_type": "code",
        "colab": {
          "base_uri": "https://localhost:8080/",
          "height": 678
        },
        "outputId": "9f99194a-0ca8-40b9-bd36-da9610356016"
      },
      "source": [
        "#checking for outliers\n",
        "\n",
        "fig, ((ax1, ax2, ax3)) = plt.subplots(1,3, figsize=(20, 10))\n",
        "fig.suptitle('Boxplots for numeric variables')\n",
        "sns.boxplot(df['home_score'], ax=ax1)\n",
        "sns.boxplot(df['away_score'], ax=ax2)\n",
        "sns.boxplot(df['match_score'], ax=ax3)\n",
        "\n",
        "plt.show()\n",
        "\n",
        "#our dataset has outliers\n",
        "# I will keep outliers since this is a predictive model."
      ],
      "execution_count": null,
      "outputs": [
        {
          "output_type": "display_data",
          "data": {
            "image/png": "[encoded data removed]",
            "text/plain": [
              "<Figure size 1440x720 with 3 Axes>"
            ]
          },
          "metadata": {
            "tags": [],
            "needs_background": "light"
          }
        }
      ]
    },
    {
      "cell_type": "markdown",
      "metadata": {
        "id": "HBKjnnOWEdOE",
        "colab_type": "text"
      },
      "source": [
        "\n",
        "6.Exploratory Data Analysis"
      ]
    },
    {
      "cell_type": "code",
      "metadata": {
        "id": "krBz5CF5EIk0",
        "colab_type": "code",
        "colab": {
          "base_uri": "https://localhost:8080/",
          "height": 667
        },
        "outputId": "5aeeb3b5-cd85-4c9c-cb80-c0a996887fc3"
      },
      "source": [
        "df.tournament.value_counts()\n",
        "#This gives me the number of tournaments in the dataset"
      ],
      "execution_count": null,
      "outputs": [
        {
          "output_type": "execute_result",
          "data": {
            "text/plain": [
              "Friendly                                      574\n",
              "FIFA World Cup qualification                  134\n",
              "UEFA Euro qualification                        37\n",
              "AFC Asian Cup qualification                    31\n",
              "Cyprus International Tournament                 8\n",
              "Gulf Cup                                        7\n",
              "AFF Championship                                7\n",
              "Copa América                                    6\n",
              "CECAFA Cup                                      6\n",
              "Gold Cup                                        5\n",
              "African Cup of Nations qualification            5\n",
              "African Cup of Nations                          4\n",
              "AFC Asian Cup                                   4\n",
              "SAFF Cup                                        4\n",
              "King's Cup                                      3\n",
              "African Nations Championship                    3\n",
              "United Arab Emirates Friendship Tournament      3\n",
              "Malta International Tournament                  3\n",
              "CFU Caribbean Cup                               2\n",
              "CFU Caribbean Cup qualification                 2\n",
              "Oceania Nations Cup                             2\n",
              "Confederations Cup                              2\n",
              "UNCAF Cup                                       2\n",
              "Merdeka Tournament                              2\n",
              "Prime Minister's Cup                            2\n",
              "Korea Cup                                       1\n",
              "AFC Challenge Cup qualification                 1\n",
              "Copa del Pacífico                               1\n",
              "Windward Islands Tournament                     1\n",
              "Nehru Cup                                       1\n",
              "Gold Cup qualification                          1\n",
              "USA Cup                                         1\n",
              "South Pacific Games                             1\n",
              "COSAFA Cup                                      1\n",
              "UAFA Cup                                        1\n",
              "EAFF Championship                               1\n",
              "Millennium Cup                                  1\n",
              "Intercontinental Cup                            1\n",
              "Name: tournament, dtype: int64"
            ]
          },
          "metadata": {
            "tags": []
          },
          "execution_count": 20
        }
      ]
    },
    {
      "cell_type": "code",
      "metadata": {
        "id": "MdaLjugv7DcC",
        "colab_type": "code",
        "colab": {}
      },
      "source": [
        "#Here i an creating a new column tournament type to hold the 3 types of tournaments we need\n",
        "tourn_type = []\n",
        "for value in df[\"tournament\"]:\n",
        "   if value == 'Friendly':\n",
        "     tourn_type.append('Friendly')\n",
        "   elif value == \"FIFA World Cup qualification\":\n",
        "     tourn_type.append(\"World_cup\")\n",
        "   else:\n",
        "     tourn_type.append(\"Others\")  \n",
        "df[\"tourn_type\"] = tourn_type\n"
      ],
      "execution_count": null,
      "outputs": []
    },
    {
      "cell_type": "code",
      "metadata": {
        "id": "lC0sUPOq9FcW",
        "colab_type": "code",
        "colab": {
          "base_uri": "https://localhost:8080/",
          "height": 250
        },
        "outputId": "5de380a4-f938-4802-cc48-7aa98807b1a3"
      },
      "source": [
        "print(df)"
      ],
      "execution_count": null,
      "outputs": [
        {
          "output_type": "stream",
          "text": [
            "           date home_team     away_team  ...  rank_date_away  Year tourn_type\n",
            "0    1993-08-08   Bolivia       Uruguay  ...      1993-08-08  1993  World_cup\n",
            "1    1993-08-08    Brazil        Mexico  ...      1993-08-08  1993   Friendly\n",
            "2    1993-08-08   Ecuador     Venezuela  ...      1993-08-08  1993  World_cup\n",
            "3    1993-08-08    Guinea  Sierra Leone  ...      1993-08-08  1993   Friendly\n",
            "4    1993-08-08  Paraguay     Argentina  ...      1993-08-08  1993  World_cup\n",
            "..          ...       ...           ...  ...             ...   ...        ...\n",
            "866  2018-06-07   England    Costa Rica  ...      2018-06-07  1994   Friendly\n",
            "867  2018-06-07   Uruguay    Uzbekistan  ...      2018-06-07  1994   Friendly\n",
            "868  2018-06-07  Portugal       Algeria  ...      2018-06-07  1994   Friendly\n",
            "869  2018-06-07   Iceland         Ghana  ...      2018-06-07  1994   Friendly\n",
            "870  2018-06-07     India   New Zealand  ...      2018-06-07  1994     Others\n",
            "\n",
            "[871 rows x 43 columns]\n"
          ],
          "name": "stdout"
        }
      ]
    },
    {
      "cell_type": "code",
      "metadata": {
        "id": "CF0i06T59Zx1",
        "colab_type": "code",
        "colab": {
          "base_uri": "https://localhost:8080/",
          "height": 301
        },
        "outputId": "b3d4466a-c197-4f85-c480-8d2343803be9"
      },
      "source": [
        "sns.countplot(df['tourn_type'])\n",
        "# It seems like the highest count is for the friendly matches at 574"
      ],
      "execution_count": null,
      "outputs": [
        {
          "output_type": "execute_result",
          "data": {
            "text/plain": [
              "<matplotlib.axes._subplots.AxesSubplot at 0x7f4c738c5ac8>"
            ]
          },
          "metadata": {
            "tags": []
          },
          "execution_count": 26
        },
        {
          "output_type": "display_data",
          "data": {
            "image/png": "[encoded data removed]",
            "text/plain": [
              "<Figure size 432x288 with 1 Axes>"
            ]
          },
          "metadata": {
            "tags": [],
            "needs_background": "light"
          }
        }
      ]
    },
    {
      "cell_type": "code",
      "metadata": {
        "id": "zdNGEwGm_QBf",
        "colab_type": "code",
        "colab": {
          "base_uri": "https://localhost:8080/",
          "height": 285
        },
        "outputId": "909473da-9926-4956-8b0d-fdbabf9c42ed"
      },
      "source": [
        "# Plotting home_score to see the count \n",
        "(df['home_score'].value_counts()/len(df)).plot.bar()"
      ],
      "execution_count": null,
      "outputs": [
        {
          "output_type": "execute_result",
          "data": {
            "text/plain": [
              "<matplotlib.axes._subplots.AxesSubplot at 0x7f792b8d2c50>"
            ]
          },
          "metadata": {
            "tags": []
          },
          "execution_count": 58
        },
        {
          "output_type": "display_data",
          "data": {
            "image/png": "[encoded data removed]",
            "text/plain": [
              "<Figure size 432x288 with 1 Axes>"
            ]
          },
          "metadata": {
            "tags": [],
            "needs_background": "light"
          }
        }
      ]
    },
    {
      "cell_type": "code",
      "metadata": {
        "id": "mF5DYVYK_ctJ",
        "colab_type": "code",
        "colab": {
          "base_uri": "https://localhost:8080/",
          "height": 296
        },
        "outputId": "e4382265-f49f-464d-daa5-9d812df7255b"
      },
      "source": [
        "# Ditribution plot for away_score\n",
        "sns.distplot(df['away_score'], bins=10) \n",
        "#This distribution plot shows the how the away team scored"
      ],
      "execution_count": null,
      "outputs": [
        {
          "output_type": "execute_result",
          "data": {
            "text/plain": [
              "<matplotlib.axes._subplots.AxesSubplot at 0x7f792b8459e8>"
            ]
          },
          "metadata": {
            "tags": []
          },
          "execution_count": 59
        },
        {
          "output_type": "display_data",
          "data": {
            "image/png": "[encoded data removed]",
            "text/plain": [
              "<Figure size 432x288 with 1 Axes>"
            ]
          },
          "metadata": {
            "tags": [],
            "needs_background": "light"
          }
        }
      ]
    },
    {
      "cell_type": "code",
      "metadata": {
        "id": "45-QIHRcE_LX",
        "colab_type": "code",
        "colab": {
          "base_uri": "https://localhost:8080/",
          "height": 217
        },
        "outputId": "1d11b2d4-4d86-4628-f370-014a20f2d3c2"
      },
      "source": [
        "#Create  a column that shows scores that shows a win , loss or draw\n",
        "df[\"match_score\"] = df['home_score'] - df['away_score']\n",
        "df[\"match_score\"]"
      ],
      "execution_count": null,
      "outputs": [
        {
          "output_type": "execute_result",
          "data": {
            "text/plain": [
              "0      2\n",
              "1      0\n",
              "2      5\n",
              "3      1\n",
              "4     -2\n",
              "      ..\n",
              "866    2\n",
              "867    3\n",
              "868    3\n",
              "869    0\n",
              "870   -1\n",
              "Name: match_score, Length: 871, dtype: int64"
            ]
          },
          "metadata": {
            "tags": []
          },
          "execution_count": 23
        }
      ]
    },
    {
      "cell_type": "code",
      "metadata": {
        "id": "ujNWZxTHFJxc",
        "colab_type": "code",
        "colab": {}
      },
      "source": [
        "#def result(x):\n",
        " # if match_score > 0:\n",
        "  #  return 'Win'\n",
        " # elif match_score < 0:\n",
        " #   return 'Lose'\n",
        " # else:\n",
        "  #  return 'Draw'"
      ],
      "execution_count": null,
      "outputs": []
    },
    {
      "cell_type": "code",
      "metadata": {
        "id": "mw9TJ_4eA5hg",
        "colab_type": "code",
        "colab": {
          "base_uri": "https://localhost:8080/",
          "height": 250
        },
        "outputId": "07a548b9-0c16-4bfd-bc2e-297055164668"
      },
      "source": [
        "result = []\n",
        "for match_score in df['match_score']:\n",
        "  if match_score > 0:\n",
        "    result.append(\"Win\")\n",
        "  elif match_score < 0:\n",
        "    result.append(\"Lose\")\n",
        "  else:\n",
        "    result.append(\"Draw\")  \n",
        "df['result'] = result\n",
        "print(df)"
      ],
      "execution_count": null,
      "outputs": [
        {
          "output_type": "stream",
          "text": [
            "           date home_team     away_team  ...  tourn_type  match_score result\n",
            "0    1993-08-08   Bolivia       Uruguay  ...   World_cup            2    Win\n",
            "1    1993-08-08    Brazil        Mexico  ...    Friendly            0   Draw\n",
            "2    1993-08-08   Ecuador     Venezuela  ...   World_cup            5    Win\n",
            "3    1993-08-08    Guinea  Sierra Leone  ...    Friendly            1    Win\n",
            "4    1993-08-08  Paraguay     Argentina  ...   World_cup           -2   Lose\n",
            "..          ...       ...           ...  ...         ...          ...    ...\n",
            "866  2018-06-07   England    Costa Rica  ...    Friendly            2    Win\n",
            "867  2018-06-07   Uruguay    Uzbekistan  ...    Friendly            3    Win\n",
            "868  2018-06-07  Portugal       Algeria  ...    Friendly            3    Win\n",
            "869  2018-06-07   Iceland         Ghana  ...    Friendly            0   Draw\n",
            "870  2018-06-07     India   New Zealand  ...      Others           -1   Lose\n",
            "\n",
            "[871 rows x 45 columns]\n"
          ],
          "name": "stdout"
        }
      ]
    },
    {
      "cell_type": "markdown",
      "metadata": {
        "id": "QifmQ_kAJHfN",
        "colab_type": "text"
      },
      "source": [
        "When we apply the function and check again my df, i confirm that the win, lose and draw criteria has been added.Check for new columns called match score and result"
      ]
    },
    {
      "cell_type": "code",
      "metadata": {
        "id": "bHUtcC0zACU5",
        "colab_type": "code",
        "colab": {
          "base_uri": "https://localhost:8080/",
          "height": 297
        },
        "outputId": "e52360c5-d041-4319-fa70-2592ee92f4cc"
      },
      "source": [
        "# Ditribution plot for match_score\n",
        "sns.distplot(df['match_score']) "
      ],
      "execution_count": null,
      "outputs": [
        {
          "output_type": "execute_result",
          "data": {
            "text/plain": [
              "<matplotlib.axes._subplots.AxesSubplot at 0x7f9897b26908>"
            ]
          },
          "metadata": {
            "tags": []
          },
          "execution_count": 36
        },
        {
          "output_type": "display_data",
          "data": {
            "image/png": "[encoded data removed]",
            "text/plain": [
              "<Figure size 432x288 with 1 Axes>"
            ]
          },
          "metadata": {
            "tags": [],
            "needs_background": "light"
          }
        }
      ]
    },
    {
      "cell_type": "code",
      "metadata": {
        "id": "-WBeRaNRlguV",
        "colab_type": "code",
        "colab": {}
      },
      "source": [
        "#Dropping unnecessary columns\n",
        "df.drop(columns = ['rank_date_home','country', 'city','rank_date_away', 'date', 'confederation_home','confederation_away'],axis= 1, inplace =True)"
      ],
      "execution_count": null,
      "outputs": []
    },
    {
      "cell_type": "code",
      "metadata": {
        "id": "wGabmhBXG0vN",
        "colab_type": "code",
        "colab": {}
      },
      "source": [
        "df.drop(columns = ['neutral',\t'country_full_home',\t'country_abrv_home',\t'total_points_home',\t'previous_points_home',\t'cur_year_avg_home',\t'cur_year_avg_weighted_home',\t'last_year_avg_home',\t'last_year_avg_weighted_home',\t'two_year_ago_avg_home',\t'two_year_ago_weighted_home',\t'three_year_ago_avg_home',\t'three_year_ago_weighted_home'], axis = 1, inplace = True)"
      ],
      "execution_count": null,
      "outputs": []
    },
    {
      "cell_type": "code",
      "metadata": {
        "id": "h49ky5fWJWTW",
        "colab_type": "code",
        "colab": {}
      },
      "source": [
        "df.drop(columns = ['country_full_away',\t'country_abrv_away',\t'total_points_away',\t'previous_points_away',\t'cur_year_avg_away',\t'cur_year_avg_weighted_away',\t\n",
        "                   'last_year_avg_away',\t'last_year_avg_weighted_away',\t'two_year_ago_avg_away',\t'two_year_ago_weighted_away',\t'three_year_ago_avg_away',\n",
        "                   'three_year_ago_weighted_away'], axis = 1, inplace = True)"
      ],
      "execution_count": null,
      "outputs": []
    },
    {
      "cell_type": "code",
      "metadata": {
        "id": "eialurwkIlbN",
        "colab_type": "code",
        "colab": {
          "base_uri": "https://localhost:8080/",
          "height": 197
        },
        "outputId": "1418409e-edcc-40aa-f688-4007b5ac2341"
      },
      "source": [
        "#I have verified that new columns have been drppped.\n",
        "df.head()"
      ],
      "execution_count": null,
      "outputs": [
        {
          "output_type": "execute_result",
          "data": {
            "text/html": [
              "<div>\n",
              "<style scoped>\n",
              "    .dataframe tbody tr th:only-of-type {\n",
              "        vertical-align: middle;\n",
              "    }\n",
              "\n",
              "    .dataframe tbody tr th {\n",
              "        vertical-align: top;\n",
              "    }\n",
              "\n",
              "    .dataframe thead th {\n",
              "        text-align: right;\n",
              "    }\n",
              "</style>\n",
              "<table border=\"1\" class=\"dataframe\">\n",
              "  <thead>\n",
              "    <tr style=\"text-align: right;\">\n",
              "      <th></th>\n",
              "      <th>home_team</th>\n",
              "      <th>away_team</th>\n",
              "      <th>home_score</th>\n",
              "      <th>away_score</th>\n",
              "      <th>tournament</th>\n",
              "      <th>rank_home</th>\n",
              "      <th>rank_change_home</th>\n",
              "      <th>rank_away</th>\n",
              "      <th>rank_change_away</th>\n",
              "      <th>Year</th>\n",
              "      <th>tourn_type</th>\n",
              "      <th>match_score</th>\n",
              "      <th>result</th>\n",
              "    </tr>\n",
              "  </thead>\n",
              "  <tbody>\n",
              "    <tr>\n",
              "      <th>0</th>\n",
              "      <td>Bolivia</td>\n",
              "      <td>Uruguay</td>\n",
              "      <td>3</td>\n",
              "      <td>1</td>\n",
              "      <td>FIFA World Cup qualification</td>\n",
              "      <td>59</td>\n",
              "      <td>28</td>\n",
              "      <td>22</td>\n",
              "      <td>-6</td>\n",
              "      <td>1993</td>\n",
              "      <td>World_cup</td>\n",
              "      <td>2</td>\n",
              "      <td>Win</td>\n",
              "    </tr>\n",
              "    <tr>\n",
              "      <th>1</th>\n",
              "      <td>Brazil</td>\n",
              "      <td>Mexico</td>\n",
              "      <td>1</td>\n",
              "      <td>1</td>\n",
              "      <td>Friendly</td>\n",
              "      <td>8</td>\n",
              "      <td>-5</td>\n",
              "      <td>14</td>\n",
              "      <td>11</td>\n",
              "      <td>1993</td>\n",
              "      <td>Friendly</td>\n",
              "      <td>0</td>\n",
              "      <td>Draw</td>\n",
              "    </tr>\n",
              "    <tr>\n",
              "      <th>2</th>\n",
              "      <td>Ecuador</td>\n",
              "      <td>Venezuela</td>\n",
              "      <td>5</td>\n",
              "      <td>0</td>\n",
              "      <td>FIFA World Cup qualification</td>\n",
              "      <td>35</td>\n",
              "      <td>30</td>\n",
              "      <td>94</td>\n",
              "      <td>31</td>\n",
              "      <td>1993</td>\n",
              "      <td>World_cup</td>\n",
              "      <td>5</td>\n",
              "      <td>Win</td>\n",
              "    </tr>\n",
              "    <tr>\n",
              "      <th>3</th>\n",
              "      <td>Guinea</td>\n",
              "      <td>Sierra Leone</td>\n",
              "      <td>1</td>\n",
              "      <td>0</td>\n",
              "      <td>Friendly</td>\n",
              "      <td>65</td>\n",
              "      <td>-2</td>\n",
              "      <td>86</td>\n",
              "      <td>-7</td>\n",
              "      <td>1993</td>\n",
              "      <td>Friendly</td>\n",
              "      <td>1</td>\n",
              "      <td>Win</td>\n",
              "    </tr>\n",
              "    <tr>\n",
              "      <th>4</th>\n",
              "      <td>Paraguay</td>\n",
              "      <td>Argentina</td>\n",
              "      <td>1</td>\n",
              "      <td>3</td>\n",
              "      <td>FIFA World Cup qualification</td>\n",
              "      <td>67</td>\n",
              "      <td>1</td>\n",
              "      <td>5</td>\n",
              "      <td>5</td>\n",
              "      <td>1993</td>\n",
              "      <td>World_cup</td>\n",
              "      <td>-2</td>\n",
              "      <td>Lose</td>\n",
              "    </tr>\n",
              "  </tbody>\n",
              "</table>\n",
              "</div>"
            ],
            "text/plain": [
              "  home_team     away_team  home_score  ...  tourn_type match_score  result\n",
              "0   Bolivia       Uruguay           3  ...   World_cup           2     Win\n",
              "1    Brazil        Mexico           1  ...    Friendly           0    Draw\n",
              "2   Ecuador     Venezuela           5  ...   World_cup           5     Win\n",
              "3    Guinea  Sierra Leone           1  ...    Friendly           1     Win\n",
              "4  Paraguay     Argentina           1  ...   World_cup          -2    Lose\n",
              "\n",
              "[5 rows x 13 columns]"
            ]
          },
          "metadata": {
            "tags": []
          },
          "execution_count": 28
        }
      ]
    },
    {
      "cell_type": "code",
      "metadata": {
        "id": "YpSEAaFSJfQe",
        "colab_type": "code",
        "colab": {
          "base_uri": "https://localhost:8080/",
          "height": 297
        },
        "outputId": "1ae82323-2891-47af-f5fe-4dc3aad5fe43"
      },
      "source": [
        "\n",
        "# Since we are building a model to predict A prediction result of a game between team 1 and team 2, based on who's home and who's away, and on whether or not the game is friendly.\n",
        "# our target is going to be match_score variable from the merged dataframe. \n",
        "# To make sure that i have binary variables, i will Seaborn's countplot() function.\n",
        "# \n",
        "sns.countplot(x='home_score', data=df, palette='hls')\n",
        "\n"
      ],
      "execution_count": null,
      "outputs": [
        {
          "output_type": "execute_result",
          "data": {
            "text/plain": [
              "<matplotlib.axes._subplots.AxesSubplot at 0x7ff9d28ea1d0>"
            ]
          },
          "metadata": {
            "tags": []
          },
          "execution_count": 45
        },
        {
          "output_type": "display_data",
          "data": {
            "image/png": "[encoded data removed]",
            "text/plain": [
              "<Figure size 432x288 with 1 Axes>"
            ]
          },
          "metadata": {
            "tags": [],
            "needs_background": "light"
          }
        }
      ]
    },
    {
      "cell_type": "code",
      "metadata": {
        "id": "yaD5kJYAJizj",
        "colab_type": "code",
        "colab": {
          "base_uri": "https://localhost:8080/",
          "height": 296
        },
        "outputId": "30b6c6e1-9cf7-4279-c793-8377cada5966"
      },
      "source": [
        "sns.countplot(x='away_score', data=df, palette='hls')"
      ],
      "execution_count": null,
      "outputs": [
        {
          "output_type": "execute_result",
          "data": {
            "text/plain": [
              "<matplotlib.axes._subplots.AxesSubplot at 0x7f9897a657b8>"
            ]
          },
          "metadata": {
            "tags": []
          },
          "execution_count": 41
        },
        {
          "output_type": "display_data",
          "data": {
            "image/png": "[encoded data removed]",
            "text/plain": [
              "<Figure size 432x288 with 1 Axes>"
            ]
          },
          "metadata": {
            "tags": [],
            "needs_background": "light"
          }
        }
      ]
    },
    {
      "cell_type": "code",
      "metadata": {
        "id": "7tOaIxVyJpb9",
        "colab_type": "code",
        "colab": {
          "base_uri": "https://localhost:8080/",
          "height": 382
        },
        "outputId": "2c5d36aa-5950-404f-ff63-e914a957b892"
      },
      "source": [
        "sns.countplot(x='match_score', data=df, palette='hls')\n",
        "#This is a countplot of the new column match score which is home_score - away_score"
      ],
      "execution_count": null,
      "outputs": [
        {
          "output_type": "execute_result",
          "data": {
            "text/plain": [
              "<matplotlib.axes._subplots.AxesSubplot at 0x7f1f15639358>"
            ]
          },
          "metadata": {
            "tags": []
          },
          "execution_count": 76
        },
        {
          "output_type": "display_data",
          "data": {
            "image/png": "[encoded data removed]",
            "text/plain": [
              "<Figure size 576x396 with 1 Axes>"
            ]
          },
          "metadata": {
            "tags": []
          }
        }
      ]
    },
    {
      "cell_type": "markdown",
      "metadata": {
        "id": "neDwevzAJwoi",
        "colab_type": "text"
      },
      "source": [
        "This is a count plot based on the match score which is Home score - away score , 0 represents a draw. If there is a negative on the match score it means home_score is less than away_score and the home_team lost."
      ]
    },
    {
      "cell_type": "markdown",
      "metadata": {
        "id": "YUSukobyt0pD",
        "colab_type": "text"
      },
      "source": [
        "7.Feature Engineering"
      ]
    },
    {
      "cell_type": "code",
      "metadata": {
        "id": "Sv8KRDh7tzg-",
        "colab_type": "code",
        "colab": {}
      },
      "source": [
        "#Encoding the tourn_type column\n",
        "tournament_ = {'tourn_type':{'Friendly':1, \"World_cup\":2, \"Others\":0}}\n",
        "df.replace(tournament_, inplace=True)\n",
        "df[\"tourn_type\"] = df[\"tourn_type\"].astype(\"int\")"
      ],
      "execution_count": null,
      "outputs": []
    },
    {
      "cell_type": "code",
      "metadata": {
        "id": "Ceq54ezLt6Fz",
        "colab_type": "code",
        "colab": {}
      },
      "source": [
        "#Encoding the result column\n",
        "result_ = {'result':{'Win':1, \"Lose\":2, \"Draw\":0}}\n",
        "df.replace(result_, inplace=True)\n",
        "df[\"result\"] = df[\"result\"].astype(\"int\")"
      ],
      "execution_count": null,
      "outputs": []
    },
    {
      "cell_type": "markdown",
      "metadata": {
        "id": "D-xANkpys8t1",
        "colab_type": "text"
      },
      "source": [
        "These 2 codes encode the tournament type column and result columns that i created. Tourn type now holds friendly as 1 ,worldcup as 2, others as 0 ,and result column has win as 1, lose as 2, draw as 0"
      ]
    },
    {
      "cell_type": "markdown",
      "metadata": {
        "id": "Vj94ePwRu7-q",
        "colab_type": "text"
      },
      "source": [
        "8.Checking for multicolinearity\n"
      ]
    },
    {
      "cell_type": "code",
      "metadata": {
        "id": "NNPOk6h-u4H8",
        "colab_type": "code",
        "colab": {
          "base_uri": "https://localhost:8080/",
          "height": 347
        },
        "outputId": "22a82d37-8c5c-4bf9-860e-f178babe1a6e"
      },
      "source": [
        "#Let me get a correlation matrix of the columns to understand the relationships better\n",
        "correlation = df.corr()\n",
        "correlation"
      ],
      "execution_count": null,
      "outputs": [
        {
          "output_type": "execute_result",
          "data": {
            "text/html": [
              "<div>\n",
              "<style scoped>\n",
              "    .dataframe tbody tr th:only-of-type {\n",
              "        vertical-align: middle;\n",
              "    }\n",
              "\n",
              "    .dataframe tbody tr th {\n",
              "        vertical-align: top;\n",
              "    }\n",
              "\n",
              "    .dataframe thead th {\n",
              "        text-align: right;\n",
              "    }\n",
              "</style>\n",
              "<table border=\"1\" class=\"dataframe\">\n",
              "  <thead>\n",
              "    <tr style=\"text-align: right;\">\n",
              "      <th></th>\n",
              "      <th>home_score</th>\n",
              "      <th>away_score</th>\n",
              "      <th>rank_home</th>\n",
              "      <th>rank_change_home</th>\n",
              "      <th>rank_away</th>\n",
              "      <th>rank_change_away</th>\n",
              "      <th>Year</th>\n",
              "      <th>tourn_type</th>\n",
              "      <th>match_score</th>\n",
              "      <th>result</th>\n",
              "    </tr>\n",
              "  </thead>\n",
              "  <tbody>\n",
              "    <tr>\n",
              "      <th>home_score</th>\n",
              "      <td>1.000000</td>\n",
              "      <td>-0.132413</td>\n",
              "      <td>-0.043381</td>\n",
              "      <td>0.108316</td>\n",
              "      <td>0.309322</td>\n",
              "      <td>0.021685</td>\n",
              "      <td>0.079328</td>\n",
              "      <td>0.112013</td>\n",
              "      <td>0.874028</td>\n",
              "      <td>-0.063128</td>\n",
              "    </tr>\n",
              "    <tr>\n",
              "      <th>away_score</th>\n",
              "      <td>-0.132413</td>\n",
              "      <td>1.000000</td>\n",
              "      <td>0.143060</td>\n",
              "      <td>-0.041702</td>\n",
              "      <td>-0.151524</td>\n",
              "      <td>0.013887</td>\n",
              "      <td>-0.062442</td>\n",
              "      <td>-0.045848</td>\n",
              "      <td>-0.597329</td>\n",
              "      <td>0.447959</td>\n",
              "    </tr>\n",
              "    <tr>\n",
              "      <th>rank_home</th>\n",
              "      <td>-0.043381</td>\n",
              "      <td>0.143060</td>\n",
              "      <td>1.000000</td>\n",
              "      <td>-0.027498</td>\n",
              "      <td>0.534618</td>\n",
              "      <td>0.033777</td>\n",
              "      <td>0.054040</td>\n",
              "      <td>-0.083531</td>\n",
              "      <td>-0.105227</td>\n",
              "      <td>0.092063</td>\n",
              "    </tr>\n",
              "    <tr>\n",
              "      <th>rank_change_home</th>\n",
              "      <td>0.108316</td>\n",
              "      <td>-0.041702</td>\n",
              "      <td>-0.027498</td>\n",
              "      <td>1.000000</td>\n",
              "      <td>0.026650</td>\n",
              "      <td>0.063618</td>\n",
              "      <td>-0.014969</td>\n",
              "      <td>0.028898</td>\n",
              "      <td>0.108083</td>\n",
              "      <td>0.040951</td>\n",
              "    </tr>\n",
              "    <tr>\n",
              "      <th>rank_away</th>\n",
              "      <td>0.309322</td>\n",
              "      <td>-0.151524</td>\n",
              "      <td>0.534618</td>\n",
              "      <td>0.026650</td>\n",
              "      <td>1.000000</td>\n",
              "      <td>-0.026279</td>\n",
              "      <td>0.188256</td>\n",
              "      <td>-0.048517</td>\n",
              "      <td>0.324555</td>\n",
              "      <td>-0.073379</td>\n",
              "    </tr>\n",
              "    <tr>\n",
              "      <th>rank_change_away</th>\n",
              "      <td>0.021685</td>\n",
              "      <td>0.013887</td>\n",
              "      <td>0.033777</td>\n",
              "      <td>0.063618</td>\n",
              "      <td>-0.026279</td>\n",
              "      <td>1.000000</td>\n",
              "      <td>0.012561</td>\n",
              "      <td>-0.052965</td>\n",
              "      <td>0.010738</td>\n",
              "      <td>0.055857</td>\n",
              "    </tr>\n",
              "    <tr>\n",
              "      <th>Year</th>\n",
              "      <td>0.079328</td>\n",
              "      <td>-0.062442</td>\n",
              "      <td>0.054040</td>\n",
              "      <td>-0.014969</td>\n",
              "      <td>0.188256</td>\n",
              "      <td>0.012561</td>\n",
              "      <td>1.000000</td>\n",
              "      <td>-0.049498</td>\n",
              "      <td>0.094795</td>\n",
              "      <td>0.025035</td>\n",
              "    </tr>\n",
              "    <tr>\n",
              "      <th>tourn_type</th>\n",
              "      <td>0.112013</td>\n",
              "      <td>-0.045848</td>\n",
              "      <td>-0.083531</td>\n",
              "      <td>0.028898</td>\n",
              "      <td>-0.048517</td>\n",
              "      <td>-0.052965</td>\n",
              "      <td>-0.049498</td>\n",
              "      <td>1.000000</td>\n",
              "      <td>0.113106</td>\n",
              "      <td>-0.011038</td>\n",
              "    </tr>\n",
              "    <tr>\n",
              "      <th>match_score</th>\n",
              "      <td>0.874028</td>\n",
              "      <td>-0.597329</td>\n",
              "      <td>-0.105227</td>\n",
              "      <td>0.108083</td>\n",
              "      <td>0.324555</td>\n",
              "      <td>0.010738</td>\n",
              "      <td>0.094795</td>\n",
              "      <td>0.113106</td>\n",
              "      <td>1.000000</td>\n",
              "      <td>-0.270664</td>\n",
              "    </tr>\n",
              "    <tr>\n",
              "      <th>result</th>\n",
              "      <td>-0.063128</td>\n",
              "      <td>0.447959</td>\n",
              "      <td>0.092063</td>\n",
              "      <td>0.040951</td>\n",
              "      <td>-0.073379</td>\n",
              "      <td>0.055857</td>\n",
              "      <td>0.025035</td>\n",
              "      <td>-0.011038</td>\n",
              "      <td>-0.270664</td>\n",
              "      <td>1.000000</td>\n",
              "    </tr>\n",
              "  </tbody>\n",
              "</table>\n",
              "</div>"
            ],
            "text/plain": [
              "                  home_score  away_score  ...  match_score    result\n",
              "home_score          1.000000   -0.132413  ...     0.874028 -0.063128\n",
              "away_score         -0.132413    1.000000  ...    -0.597329  0.447959\n",
              "rank_home          -0.043381    0.143060  ...    -0.105227  0.092063\n",
              "rank_change_home    0.108316   -0.041702  ...     0.108083  0.040951\n",
              "rank_away           0.309322   -0.151524  ...     0.324555 -0.073379\n",
              "rank_change_away    0.021685    0.013887  ...     0.010738  0.055857\n",
              "Year                0.079328   -0.062442  ...     0.094795  0.025035\n",
              "tourn_type          0.112013   -0.045848  ...     0.113106 -0.011038\n",
              "match_score         0.874028   -0.597329  ...     1.000000 -0.270664\n",
              "result             -0.063128    0.447959  ...    -0.270664  1.000000\n",
              "\n",
              "[10 rows x 10 columns]"
            ]
          },
          "metadata": {
            "tags": []
          },
          "execution_count": 32
        }
      ]
    },
    {
      "cell_type": "markdown",
      "metadata": {
        "id": "S6eTEWt_vToY",
        "colab_type": "text"
      },
      "source": [
        "The tabe above shows us how each variable relates to another. The coefficient of 1 across the diagonal makes sense, as a variable is perfectly correlated to itself. I will use these correlations to compute the VIF score for each variable.  I will create a new dataframe with the inverse of the matrix above."
      ]
    },
    {
      "cell_type": "code",
      "metadata": {
        "id": "GqPj5oRIv-hJ",
        "colab_type": "code",
        "colab": {
          "base_uri": "https://localhost:8080/",
          "height": 347
        },
        "outputId": "1c994359-2c81-40f2-9a99-016caaa604c3"
      },
      "source": [
        "VIF=pd.DataFrame(np.linalg.inv(correlation.values), index = correlation.index, columns=correlation.columns)\n",
        "VIF"
      ],
      "execution_count": null,
      "outputs": [
        {
          "output_type": "execute_result",
          "data": {
            "text/html": [
              "<div>\n",
              "<style scoped>\n",
              "    .dataframe tbody tr th:only-of-type {\n",
              "        vertical-align: middle;\n",
              "    }\n",
              "\n",
              "    .dataframe tbody tr th {\n",
              "        vertical-align: top;\n",
              "    }\n",
              "\n",
              "    .dataframe thead th {\n",
              "        text-align: right;\n",
              "    }\n",
              "</style>\n",
              "<table border=\"1\" class=\"dataframe\">\n",
              "  <thead>\n",
              "    <tr style=\"text-align: right;\">\n",
              "      <th></th>\n",
              "      <th>home_score</th>\n",
              "      <th>away_score</th>\n",
              "      <th>rank_home</th>\n",
              "      <th>rank_change_home</th>\n",
              "      <th>rank_away</th>\n",
              "      <th>rank_change_away</th>\n",
              "      <th>Year</th>\n",
              "      <th>tourn_type</th>\n",
              "      <th>match_score</th>\n",
              "      <th>result</th>\n",
              "    </tr>\n",
              "  </thead>\n",
              "  <tbody>\n",
              "    <tr>\n",
              "      <th>home_score</th>\n",
              "      <td>9.213749e+13</td>\n",
              "      <td>-5.581984e+13</td>\n",
              "      <td>-0.060954</td>\n",
              "      <td>0.051321</td>\n",
              "      <td>0.026325</td>\n",
              "      <td>0.002793</td>\n",
              "      <td>-0.001265</td>\n",
              "      <td>0.054330</td>\n",
              "      <td>-1.138736e+14</td>\n",
              "      <td>-0.380985</td>\n",
              "    </tr>\n",
              "    <tr>\n",
              "      <th>away_score</th>\n",
              "      <td>-5.581984e+13</td>\n",
              "      <td>3.381744e+13</td>\n",
              "      <td>-0.067363</td>\n",
              "      <td>-0.033537</td>\n",
              "      <td>-0.038588</td>\n",
              "      <td>-0.005321</td>\n",
              "      <td>0.048005</td>\n",
              "      <td>-0.068690</td>\n",
              "      <td>6.898827e+13</td>\n",
              "      <td>-0.324811</td>\n",
              "    </tr>\n",
              "    <tr>\n",
              "      <th>rank_home</th>\n",
              "      <td>-6.249326e-02</td>\n",
              "      <td>-6.643071e-02</td>\n",
              "      <td>1.620733</td>\n",
              "      <td>0.030969</td>\n",
              "      <td>-1.035557</td>\n",
              "      <td>-0.082550</td>\n",
              "      <td>0.066165</td>\n",
              "      <td>0.030745</td>\n",
              "      <td>4.919943e-01</td>\n",
              "      <td>-0.064193</td>\n",
              "    </tr>\n",
              "    <tr>\n",
              "      <th>rank_change_home</th>\n",
              "      <td>5.135947e-02</td>\n",
              "      <td>-3.355981e-02</td>\n",
              "      <td>0.030969</td>\n",
              "      <td>1.022612</td>\n",
              "      <td>-0.017713</td>\n",
              "      <td>-0.062221</td>\n",
              "      <td>0.030422</td>\n",
              "      <td>-0.016553</td>\n",
              "      <td>-1.873498e-01</td>\n",
              "      <td>-0.075930</td>\n",
              "    </tr>\n",
              "    <tr>\n",
              "      <th>rank_away</th>\n",
              "      <td>2.609367e-02</td>\n",
              "      <td>-3.844802e-02</td>\n",
              "      <td>-1.035557</td>\n",
              "      <td>-0.017713</td>\n",
              "      <td>1.825590</td>\n",
              "      <td>0.095376</td>\n",
              "      <td>-0.223276</td>\n",
              "      <td>0.073779</td>\n",
              "      <td>-7.185144e-01</td>\n",
              "      <td>0.055493</td>\n",
              "    </tr>\n",
              "    <tr>\n",
              "      <th>rank_change_away</th>\n",
              "      <td>2.568658e-03</td>\n",
              "      <td>-5.185594e-03</td>\n",
              "      <td>-0.082550</td>\n",
              "      <td>-0.062221</td>\n",
              "      <td>0.095376</td>\n",
              "      <td>1.016419</td>\n",
              "      <td>-0.016868</td>\n",
              "      <td>0.059214</td>\n",
              "      <td>-6.909548e-02</td>\n",
              "      <td>-0.054769</td>\n",
              "    </tr>\n",
              "    <tr>\n",
              "      <th>Year</th>\n",
              "      <td>-2.670046e-04</td>\n",
              "      <td>4.740011e-02</td>\n",
              "      <td>0.066165</td>\n",
              "      <td>0.030422</td>\n",
              "      <td>-0.223276</td>\n",
              "      <td>-0.016868</td>\n",
              "      <td>1.048319</td>\n",
              "      <td>0.048486</td>\n",
              "      <td>-2.035854e-02</td>\n",
              "      <td>-0.075249</td>\n",
              "    </tr>\n",
              "    <tr>\n",
              "      <th>tourn_type</th>\n",
              "      <td>5.433019e-02</td>\n",
              "      <td>-6.869037e-02</td>\n",
              "      <td>0.030745</td>\n",
              "      <td>-0.016553</td>\n",
              "      <td>0.073779</td>\n",
              "      <td>0.059214</td>\n",
              "      <td>0.048486</td>\n",
              "      <td>1.029212</td>\n",
              "      <td>-2.342500e-01</td>\n",
              "      <td>-0.019102</td>\n",
              "    </tr>\n",
              "    <tr>\n",
              "      <th>match_score</th>\n",
              "      <td>-1.138736e+14</td>\n",
              "      <td>6.898827e+13</td>\n",
              "      <td>0.490093</td>\n",
              "      <td>-0.187302</td>\n",
              "      <td>-0.718801</td>\n",
              "      <td>-0.069372</td>\n",
              "      <td>-0.019126</td>\n",
              "      <td>-0.234250</td>\n",
              "      <td>1.407375e+14</td>\n",
              "      <td>0.475490</td>\n",
              "    </tr>\n",
              "    <tr>\n",
              "      <th>result</th>\n",
              "      <td>-3.809849e-01</td>\n",
              "      <td>-3.248110e-01</td>\n",
              "      <td>-0.064193</td>\n",
              "      <td>-0.075930</td>\n",
              "      <td>0.055493</td>\n",
              "      <td>-0.054769</td>\n",
              "      <td>-0.075249</td>\n",
              "      <td>-0.019102</td>\n",
              "      <td>4.754896e-01</td>\n",
              "      <td>1.267972</td>\n",
              "    </tr>\n",
              "  </tbody>\n",
              "</table>\n",
              "</div>"
            ],
            "text/plain": [
              "                    home_score    away_score  ...   match_score    result\n",
              "home_score        9.213749e+13 -5.581984e+13  ... -1.138736e+14 -0.380985\n",
              "away_score       -5.581984e+13  3.381744e+13  ...  6.898827e+13 -0.324811\n",
              "rank_home        -6.249326e-02 -6.643071e-02  ...  4.919943e-01 -0.064193\n",
              "rank_change_home  5.135947e-02 -3.355981e-02  ... -1.873498e-01 -0.075930\n",
              "rank_away         2.609367e-02 -3.844802e-02  ... -7.185144e-01  0.055493\n",
              "rank_change_away  2.568658e-03 -5.185594e-03  ... -6.909548e-02 -0.054769\n",
              "Year             -2.670046e-04  4.740011e-02  ... -2.035854e-02 -0.075249\n",
              "tourn_type        5.433019e-02 -6.869037e-02  ... -2.342500e-01 -0.019102\n",
              "match_score      -1.138736e+14  6.898827e+13  ...  1.407375e+14  0.475490\n",
              "result           -3.809849e-01 -3.248110e-01  ...  4.754896e-01  1.267972\n",
              "\n",
              "[10 rows x 10 columns]"
            ]
          },
          "metadata": {
            "tags": []
          },
          "execution_count": 33
        }
      ]
    },
    {
      "cell_type": "markdown",
      "metadata": {
        "id": "3S5LPH1WwQz8",
        "colab_type": "text"
      },
      "source": [
        "Interpreting the table is straightforward: The VIF score for each variable is found alongside the downwards sloping diagonal. Home_score has a score of 9.21374, away_score has a score of 3.3817"
      ]
    },
    {
      "cell_type": "code",
      "metadata": {
        "id": "dr1iIrXzwli7",
        "colab_type": "code",
        "colab": {
          "base_uri": "https://localhost:8080/",
          "height": 808
        },
        "outputId": "2ac4d2d6-935a-4499-9cc6-fa53d0493de1"
      },
      "source": [
        "# Plotting visualisation of the matrix for better clarity \n",
        "\n",
        "plt.figure(figsize=(12, 12))  \n",
        "\n",
        "# Creating our visualisation  \n",
        "# \n",
        "sns.heatmap(correlation, annot = True) "
      ],
      "execution_count": null,
      "outputs": [
        {
          "output_type": "execute_result",
          "data": {
            "text/plain": [
              "<matplotlib.axes._subplots.AxesSubplot at 0x7f462b2efcf8>"
            ]
          },
          "metadata": {
            "tags": []
          },
          "execution_count": 34
        },
        {
          "output_type": "display_data",
          "data": {
            "image/png": "[encoded data removed]",
            "text/plain": [
              "<Figure size 864x864 with 2 Axes>"
            ]
          },
          "metadata": {
            "tags": [],
            "needs_background": "light"
          }
        }
      ]
    },
    {
      "cell_type": "markdown",
      "metadata": {
        "id": "rh8GQShXkNyO",
        "colab_type": "text"
      },
      "source": [
        "9.Modelling"
      ]
    },
    {
      "cell_type": "code",
      "metadata": {
        "id": "bBj27_BTR3zE",
        "colab_type": "code",
        "colab": {}
      },
      "source": [
        "#Model 1 predicting home score\n",
        "X = df[['rank_home', 'rank_away', 'tourn_type']].values\n",
        "y = df['home_score'].values"
      ],
      "execution_count": null,
      "outputs": []
    },
    {
      "cell_type": "code",
      "metadata": {
        "id": "V6IwkdDukTgt",
        "colab_type": "code",
        "colab": {
          "base_uri": "https://localhost:8080/",
          "height": 296
        },
        "outputId": "39bb60e5-57cc-49c9-ef56-1ec408e03b80"
      },
      "source": [
        "# Since our dataset is pretty clean, let's start by visualizing our dataset by plotting to see the relationship\n",
        "df.plot(x='rank_home', y='home_score', style='o')\n",
        "plt.title('Home_rank VS Home_score')\n",
        "plt.xlabel('rank_home')\n",
        "plt.ylabel('home_score')\n",
        "plt.show()\n"
      ],
      "execution_count": null,
      "outputs": [
        {
          "output_type": "display_data",
          "data": {
            "image/png": "[encoded data removed]",
            "text/plain": [
              "<Figure size 432x288 with 1 Axes>"
            ]
          },
          "metadata": {
            "tags": [],
            "needs_background": "light"
          }
        }
      ]
    },
    {
      "cell_type": "markdown",
      "metadata": {
        "id": "4N9yzbC4neae",
        "colab_type": "text"
      },
      "source": [
        "Observation\n",
        "\n",
        "From the  plot, the data does not appear to be linear. So if were to fit a simple linear straight line, it would not cover most of the points. Which is why applying Linear regression on this dataset would not give us the correct value.\n",
        "\n",
        "The other alternative i am left with is applying polynomial regression."
      ]
    },
    {
      "cell_type": "code",
      "metadata": {
        "id": "Dul55hPDT_f_",
        "colab_type": "code",
        "colab": {
          "base_uri": "https://localhost:8080/",
          "height": 33
        },
        "outputId": "64bae325-de9b-4d9b-f5c2-e00b92607920"
      },
      "source": [
        "# Fit polynomial Regression to the dataset\n",
        "from sklearn import metrics\n",
        "from sklearn.preprocessing import PolynomialFeatures\n",
        "from sklearn.linear_model import LinearRegression\n",
        "from sklearn.linear_model import LogisticRegression\n",
        "\n",
        "poly_reg = PolynomialFeatures(degree = 2) \n",
        "X_poly = poly_reg.fit_transform(X)\n",
        "\n",
        "\n",
        "pol_reg = LinearRegression()\n",
        "pol_reg.fit(X_poly, y)\n"
      ],
      "execution_count": null,
      "outputs": [
        {
          "output_type": "execute_result",
          "data": {
            "text/plain": [
              "LinearRegression(copy_X=True, fit_intercept=True, n_jobs=None, normalize=False)"
            ]
          },
          "metadata": {
            "tags": []
          },
          "execution_count": 37
        }
      ]
    },
    {
      "cell_type": "code",
      "metadata": {
        "id": "lqTQDsazVc10",
        "colab_type": "code",
        "colab": {
          "base_uri": "https://localhost:8080/",
          "height": 50
        },
        "outputId": "76a88e56-7b63-4ece-9ecd-0f8c1a53092f"
      },
      "source": [
        "# Predict using linear regression\n",
        "reg_line = LinearRegression()\n",
        "reg_line.fit(X,y)\n",
        "lin_pred = reg_line.predict([[35, 94, 2]])\n",
        "print('Linear prediction: %d' %lin_pred)\n",
        "\n",
        "# Predict using Polynomial Regression\n",
        "poly_pred = pol_reg.predict(poly_reg.fit_transform([[35, 94, 2]]))\n",
        "print('Polynomial prediction: %d' %poly_pred)\n",
        "\n",
        "# We can also get the predictions as an array\n",
        "poly_arr_pred = pol_reg.predict(poly_reg.fit_transform(X))"
      ],
      "execution_count": null,
      "outputs": [
        {
          "output_type": "stream",
          "text": [
            "Linear prediction: 2\n",
            "Polynomial prediction: 2\n"
          ],
          "name": "stdout"
        }
      ]
    },
    {
      "cell_type": "markdown",
      "metadata": {
        "id": "Qn0R8mkHkDLN",
        "colab_type": "text"
      },
      "source": [
        "I took ecuador vs venezuela worldcup match results and From my prediction means its a worldcup tournament and  both linear and have predicted 2 goals by the home team."
      ]
    },
    {
      "cell_type": "markdown",
      "metadata": {
        "id": "aPHRF9B9gDry",
        "colab_type": "text"
      },
      "source": [
        "Cross validation of model 1"
      ]
    },
    {
      "cell_type": "code",
      "metadata": {
        "id": "9sOUowsOf6aE",
        "colab_type": "code",
        "colab": {
          "base_uri": "https://localhost:8080/",
          "height": 67
        },
        "outputId": "122ecda0-4263-46cb-c901-e674af6ed537"
      },
      "source": [
        "#First i will start by calculating the mean absolute error, mean squared absolute error and root mean squared error for my model.\n",
        "X = df[['rank_home', 'rank_away', 'tourn_type']].values\n",
        "y = df['home_score'].values\n",
        "regressor = LinearRegression()  \n",
        "regressor.fit(X_train, y_train)\n",
        "\n",
        "# assess the accuraccy of the model\n",
        "y_pred = regressor.predict(X_test)\n",
        "\n",
        "print('Mean Absolute Error:', metrics.mean_absolute_error(y_test, y_pred))  \n",
        "print('Mean Squared Error:', metrics.mean_squared_error(y_test, y_pred))  \n",
        "print('Root Mean Squared Error:', np.sqrt(metrics.mean_squared_error(y_test, y_pred)))"
      ],
      "execution_count": null,
      "outputs": [
        {
          "output_type": "stream",
          "text": [
            "Mean Absolute Error: 1.180554900767873\n",
            "Mean Squared Error: 2.9265490373943233\n",
            "Root Mean Squared Error: 1.7107159429298375\n"
          ],
          "name": "stdout"
        }
      ]
    },
    {
      "cell_type": "markdown",
      "metadata": {
        "id": "FND_AQHbgPEe",
        "colab_type": "text"
      },
      "source": [
        "Running the code above should yield an RMSE of ~1.710. Let's now cross validate our model by using k-fold cross validation. We will use 5 folds for this example, and follow the documentation from sklearn"
      ]
    },
    {
      "cell_type": "code",
      "metadata": {
        "id": "78VOWnubeRfz",
        "colab_type": "code",
        "colab": {
          "base_uri": "https://localhost:8080/",
          "height": 283
        },
        "outputId": "b24a12eb-7e64-4523-b401-b30d568baba7"
      },
      "source": [
        "#Cross validate model 1\n",
        "#Cross validation using kFold method\n",
        "from sklearn.model_selection import KFold\n",
        "\n",
        "# We will use the same 3 independent variables for this\n",
        "X = df[['rank_home', 'rank_away', 'tourn_type']].values\n",
        "y = df['home_score'].values\n",
        "\n",
        "folds = KFold(n_splits=5)\n",
        "\n",
        "# note that if you have a KFold object, you can figure out how many folds you set up \n",
        "# for it using get_n_splits\n",
        "print('we are using ' +str(folds.get_n_splits(X)) + ' folds')\n",
        "\n",
        "# We now create and assess 5 models based on the folds we created.\n",
        "RMSES = [] # We will use this array to keep track of the RSME of each model\n",
        "count = 1 # This will just help \n",
        "for train_index, test_index in folds.split(X):\n",
        "  print('\\nTraining model ' + str(count))\n",
        "  \n",
        "  # set up the train and test based on the split determined by KFold\n",
        "  # With 5 folds, we will end up with 80% of our data in the training set, and 20% in the test set, just as above\n",
        "  X_train, X_test = X[train_index], X[test_index]\n",
        "  y_train, y_test = y[train_index], y[test_index]\n",
        "  \n",
        "  # fit a model accordingly\n",
        "  regressor = LinearRegression()  \n",
        "  regressor.fit(X_train, y_train)\n",
        "  \n",
        "  # assess the accuraccy of the model\n",
        "  y_pred = regressor.predict(X_test)\n",
        "  \n",
        "  rmse_value =  np.sqrt(metrics.mean_squared_error(y_test, y_pred))\n",
        "  RMSES.append(rmse_value)\n",
        "  \n",
        "  print('Model ' + str(count) + ' Root Mean Squared Error:',rmse_value)\n",
        "  count = count + 1"
      ],
      "execution_count": null,
      "outputs": [
        {
          "output_type": "stream",
          "text": [
            "we are using 5 folds\n",
            "\n",
            "Training model 1\n",
            "Model 1 Root Mean Squared Error: 1.4685247758832762\n",
            "\n",
            "Training model 2\n",
            "Model 2 Root Mean Squared Error: 2.4602204762788493\n",
            "\n",
            "Training model 3\n",
            "Model 3 Root Mean Squared Error: 1.6296597780379796\n",
            "\n",
            "Training model 4\n",
            "Model 4 Root Mean Squared Error: 1.255214213158782\n",
            "\n",
            "Training model 5\n",
            "Model 5 Root Mean Squared Error: 1.7107159429298375\n"
          ],
          "name": "stdout"
        }
      ]
    },
    {
      "cell_type": "markdown",
      "metadata": {
        "id": "B-zhaq2cfcS_",
        "colab_type": "text"
      },
      "source": [
        "As you can tell from running the code, the RMSE value for my 2nd model is fairly larger than the RMSE we found initially, and that of the other models. This would beg for an analysis of the specific indeces used.\n",
        "\n",
        "Another useful observation is comparing the average RMSE value of all these models to the one we obtain in our initial approache. We created the array RMSES to gather all the RMSE values, we can compute the average simply as follows"
      ]
    },
    {
      "cell_type": "code",
      "metadata": {
        "id": "3v_XldWrfliE",
        "colab_type": "code",
        "colab": {
          "base_uri": "https://localhost:8080/",
          "height": 33
        },
        "outputId": "063eb9fa-6030-4fda-b431-6a6e19e49664"
      },
      "source": [
        "np.mean(RMSES)"
      ],
      "execution_count": null,
      "outputs": [
        {
          "output_type": "execute_result",
          "data": {
            "text/plain": [
              "1.7048670372577448"
            ]
          },
          "metadata": {
            "tags": []
          },
          "execution_count": 42
        }
      ]
    },
    {
      "cell_type": "markdown",
      "metadata": {
        "id": "78loQ3AphAGz",
        "colab_type": "text"
      },
      "source": [
        "As you can see, the average is fairly close to our initial value. However in this case, it might be worthwile to pick model 4 instead.\n",
        "\n",
        "Let's now highlight some variants of k-folds. A popular variant is called the leave one out cross validation, where the test data is just a single observation from your set. For a dataset of size n, this is the same as using kfold to create n folds."
      ]
    },
    {
      "cell_type": "markdown",
      "metadata": {
        "id": "atn-Lf8X4qEo",
        "colab_type": "text"
      },
      "source": [
        "\n",
        "\n",
        "Model 2: Predict how many goals the away team scores."
      ]
    },
    {
      "cell_type": "code",
      "metadata": {
        "id": "w3JK3BgjdtTz",
        "colab_type": "code",
        "colab": {}
      },
      "source": [
        "x_away = df[['rank_home', 'rank_away', 'tourn_type']].values\n",
        "y_away = df['away_score'].values"
      ],
      "execution_count": null,
      "outputs": []
    },
    {
      "cell_type": "code",
      "metadata": {
        "id": "yjeCPJlLkT1N",
        "colab_type": "code",
        "colab": {
          "base_uri": "https://localhost:8080/",
          "height": 296
        },
        "outputId": "aa049c6d-eb98-4099-a0d0-6155069d74b7"
      },
      "source": [
        "\n",
        "\n",
        "# Since our dataset is pretty clean, let's start by visualizing our dataset by plotting to see the relationship\n",
        "df.plot(x='rank_away', y='away_score', style='o')\n",
        "plt.title('away_rank VS away_score')\n",
        "plt.xlabel('rank_away')\n",
        "plt.ylabel('away_score')\n",
        "plt.show()\n",
        "\n",
        "\n",
        "\n",
        "# Fit polynomial Regression to the dataset\n",
        "#poly_reg = PolynomialFeatures(degree = 4) \n",
        "#x_away_poly = poly_reg.fit_transform(x_away)\n",
        "\n",
        "#pol_reg = LinearRegression()\n",
        "#pol_reg.fit(x_away_poly, y_away)\n",
        "\n"
      ],
      "execution_count": null,
      "outputs": [
        {
          "output_type": "display_data",
          "data": {
            "image/png": "[encoded data removed]",
            "text/plain": [
              "<Figure size 432x288 with 1 Axes>"
            ]
          },
          "metadata": {
            "tags": [],
            "needs_background": "light"
          }
        }
      ]
    },
    {
      "cell_type": "markdown",
      "metadata": {
        "id": "DGLsPv5zkHJU",
        "colab_type": "text"
      },
      "source": [
        "This relationship is not linear"
      ]
    },
    {
      "cell_type": "code",
      "metadata": {
        "id": "xJdjhX_QkOyf",
        "colab_type": "code",
        "colab": {
          "base_uri": "https://localhost:8080/",
          "height": 33
        },
        "outputId": "e54129ab-b2b8-4ebb-94a0-e8389fafb8fe"
      },
      "source": [
        "# Fit polynomial Regression to the dataset\n",
        "polynom_reg = PolynomialFeatures(degree = 4) \n",
        "x_away_poly = poly_reg.fit_transform(x_away)\n",
        "\n",
        "polynom_reg = LinearRegression()\n",
        "polynom_reg.fit(x_away_poly, y_away)\n"
      ],
      "execution_count": null,
      "outputs": [
        {
          "output_type": "execute_result",
          "data": {
            "text/plain": [
              "LinearRegression(copy_X=True, fit_intercept=True, n_jobs=None, normalize=False)"
            ]
          },
          "metadata": {
            "tags": []
          },
          "execution_count": 45
        }
      ]
    },
    {
      "cell_type": "code",
      "metadata": {
        "id": "4vVo408wlIaE",
        "colab_type": "code",
        "colab": {
          "base_uri": "https://localhost:8080/",
          "height": 50
        },
        "outputId": "8490104c-b304-4c3d-cd51-4fb2cf2ec4fa"
      },
      "source": [
        "# Predict using linear regression\n",
        "regression_line = LinearRegression()\n",
        "regression_line.fit(x_away,y_away)\n",
        "lin_pred = regression_line.predict([[35, 94, 2]])\n",
        "print('Linear prediction: %d' %lin_pred)\n",
        "\n",
        "# Predict using Polynomial Regression\n",
        "poly_pred = pol_reg.predict(poly_reg.fit_transform([[35, 94, 2]]))\n",
        "print('Polynomial prediction: %d' %poly_pred)\n"
      ],
      "execution_count": null,
      "outputs": [
        {
          "output_type": "stream",
          "text": [
            "Linear prediction: 0\n",
            "Polynomial prediction: 2\n"
          ],
          "name": "stdout"
        }
      ]
    },
    {
      "cell_type": "markdown",
      "metadata": {
        "id": "_dGZFfZ1YrBK",
        "colab_type": "text"
      },
      "source": [
        "The results from the world cup ecuador vs venezuela ,linear regression predicted that away team  will score nil and polynomial regression predicted that 2 goals would be scored by away team. I will go with polynomial regression prediction"
      ]
    },
    {
      "cell_type": "markdown",
      "metadata": {
        "id": "MT9n6uzEpXvn",
        "colab_type": "text"
      },
      "source": [
        "Cross validation of model 2,\n",
        "\n",
        "Predicting away score"
      ]
    },
    {
      "cell_type": "code",
      "metadata": {
        "id": "F4zgYkkGpghm",
        "colab_type": "code",
        "colab": {
          "base_uri": "https://localhost:8080/",
          "height": 67
        },
        "outputId": "3a3952f3-f00d-40f1-ae82-9202405a61d7"
      },
      "source": [
        "#Calculare the Mean Absolute Error,'Mean Squared Error,Root Mean Squared Error\n",
        "x_away = df[['rank_home', 'rank_away', 'tourn_type']].values\n",
        "y_away = df['away_score'].values\n",
        "\n",
        "regressor = LinearRegression()  \n",
        "regressor.fit(x_away_train, y_away_train)\n",
        "\n",
        "# assess the accuraccy of the model\n",
        "y_away_pred = regressor.predict(x_away_test)\n",
        "\n",
        "print('Mean Absolute Error:', metrics.mean_absolute_error(y_away_test, y_away_pred))  \n",
        "print('Mean Squared Error:', metrics.mean_squared_error(y_away_test, y_away_pred))  \n",
        "print('Root Mean Squared Error:', np.sqrt(metrics.mean_squared_error(y_away_test, y_away_pred)))"
      ],
      "execution_count": null,
      "outputs": [
        {
          "output_type": "stream",
          "text": [
            "Mean Absolute Error: 0.7567403073645785\n",
            "Mean Squared Error: 1.0678664083480636\n",
            "Root Mean Squared Error: 1.0333762182032562\n"
          ],
          "name": "stdout"
        }
      ]
    },
    {
      "cell_type": "code",
      "metadata": {
        "id": "Zz2RX0AOz3gP",
        "colab_type": "code",
        "colab": {
          "base_uri": "https://localhost:8080/",
          "height": 283
        },
        "outputId": "38bbec9b-6054-4bd4-f6e4-e31a00fdae3e"
      },
      "source": [
        "#Cross validating model 2\n",
        "#Cross validation using kFold method\n",
        "from sklearn.model_selection import KFold\n",
        "\n",
        "# We will use the same 3 independent variables for this\n",
        "x_away = df[['rank_home', 'rank_away', 'tourn_type']].values\n",
        "y_away = df['away_score'].values\n",
        "\n",
        "folds = KFold(n_splits=5)\n",
        "\n",
        "# note that if you have a KFold object, you can figure out how many folds you set up \n",
        "# for it using get_n_splits\n",
        "print('we are using ' +str(folds.get_n_splits(x_away)) + ' folds')\n",
        "\n",
        "# We now create and assess 5 models based on the folds we created.\n",
        "RMSES = [] # We will use this array to keep track of the RSME of each model\n",
        "count = 1 # This will just help \n",
        "for train_index, test_index in folds.split(x_away):\n",
        "  print('\\nTraining model ' + str(count))\n",
        "  \n",
        "  # set up the train and test based on the split determined by KFold\n",
        "  # With 5 folds, we will end up with 80% of our data in the training set, and 20% in the test set, just as above\n",
        "  x_away_train, x_away_test = x_away[train_index], x_away[test_index]\n",
        "  y_away_train, y_away_test = y_away[train_index], y_away[test_index]\n",
        "  \n",
        "  # fit a model accordingly\n",
        "  regressor = LinearRegression()  \n",
        "  regressor.fit(x_away_train, y_away_train)\n",
        "  \n",
        "  # assess the accuraccy of the model\n",
        "  y_away_pred = regressor.predict(x_away_test)\n",
        "  \n",
        "  rmse_value =  np.sqrt(metrics.mean_squared_error(y_away_test, y_away_pred))\n",
        "  RMSES.append(rmse_value)\n",
        "  \n",
        "  print('Model ' + str(count) + ' Root Mean Squared Error:',rmse_value)\n",
        "  count = count + 1"
      ],
      "execution_count": null,
      "outputs": [
        {
          "output_type": "stream",
          "text": [
            "we are using 5 folds\n",
            "\n",
            "Training model 1\n",
            "Model 1 Root Mean Squared Error: 1.0500911194426754\n",
            "\n",
            "Training model 2\n",
            "Model 2 Root Mean Squared Error: 1.2368291205257038\n",
            "\n",
            "Training model 3\n",
            "Model 3 Root Mean Squared Error: 1.1934791519457428\n",
            "\n",
            "Training model 4\n",
            "Model 4 Root Mean Squared Error: 0.9981714131744879\n",
            "\n",
            "Training model 5\n",
            "Model 5 Root Mean Squared Error: 1.0333762182032562\n"
          ],
          "name": "stdout"
        }
      ]
    },
    {
      "cell_type": "markdown",
      "metadata": {
        "id": "fusi2I5rpDcQ",
        "colab_type": "text"
      },
      "source": [
        "As you can tell from running the code, the RMSE value for my 3rd model is fairly larger than the RMSE we found initially, and that of the other models. This would beg for an analysis of the specific indeces used.\n",
        "\n",
        "Another useful observation is comparing the average RMSE value of all these models to the one we obtain in our initial approache. We created the array RMSES to gather all the RMSE values, we can compute the average simply as follows"
      ]
    },
    {
      "cell_type": "code",
      "metadata": {
        "id": "mJESrsdh1Slq",
        "colab_type": "code",
        "colab": {
          "base_uri": "https://localhost:8080/",
          "height": 33
        },
        "outputId": "47e3cd80-42ef-4fed-b8dc-4b62f20ee7eb"
      },
      "source": [
        "np.mean(RMSES)"
      ],
      "execution_count": null,
      "outputs": [
        {
          "output_type": "execute_result",
          "data": {
            "text/plain": [
              "1.102389404658373"
            ]
          },
          "metadata": {
            "tags": []
          },
          "execution_count": 49
        }
      ]
    },
    {
      "cell_type": "markdown",
      "metadata": {
        "id": "K3bcNQUuq_pZ",
        "colab_type": "text"
      },
      "source": [
        "As you can see, the average is fairly close to our initial value. However in this case, it might be worthwile to pick model 4 instead.\n",
        "\n",
        "Let's now highlight some variants of k-folds. A popular variant is called the leave one out cross validation, where the test data is just a single observation from your set. For a dataset of size n, this is the same as using kfold to create n folds."
      ]
    },
    {
      "cell_type": "markdown",
      "metadata": {
        "id": "t9dkTM3pEyoB",
        "colab_type": "text"
      },
      "source": [
        "9.Plot of  RMSE"
      ]
    },
    {
      "cell_type": "code",
      "metadata": {
        "id": "irbcSOJ2FuZD",
        "colab_type": "code",
        "colab": {
          "base_uri": "https://localhost:8080/",
          "height": 279
        },
        "outputId": "e4dcba97-1ddf-42dd-a746-4b846209c34d"
      },
      "source": [
        "plt.plot(RMSES)\n",
        "plt.ylabel('RMSE value')\n",
        "plt.xlabel('model ID')\n",
        "plt.show()"
      ],
      "execution_count": null,
      "outputs": [
        {
          "output_type": "display_data",
          "data": {
            "image/png": "[encoded data removed]",
            "text/plain": [
              "<Figure size 432x288 with 1 Axes>"
            ]
          },
          "metadata": {
            "tags": [],
            "needs_background": "light"
          }
        }
      ]
    },
    {
      "cell_type": "markdown",
      "metadata": {
        "id": "I_TXvzubF90-",
        "colab_type": "text"
      },
      "source": [
        "This indicates to us that it would be effective to create a model that beats the ~1.102 average RMSE using this dataset. "
      ]
    },
    {
      "cell_type": "markdown",
      "metadata": {
        "id": "E4bE31S01pZp",
        "colab_type": "text"
      },
      "source": [
        "10.Create residual plots for  model 1, and assess its heteroscedasticity using Bartlett’s test"
      ]
    },
    {
      "cell_type": "code",
      "metadata": {
        "id": "e-gnsOhN1m5d",
        "colab_type": "code",
        "colab": {
          "base_uri": "https://localhost:8080/",
          "height": 33
        },
        "outputId": "fa90e1b2-ff07-4cab-862c-261c2e17c751"
      },
      "source": [
        "from sklearn import metrics\n",
        "from sklearn.model_selection import train_test_split\n",
        "from sklearn.linear_model import LinearRegression\n",
        "\n",
        "\n",
        "X_train, X_test, y_train, y_test = train_test_split(X, y, test_size=0.2, random_state=0)\n",
        "\n",
        "regressor = LinearRegression()\n",
        "regressor.fit(X_train, y_train)\n",
        "\n",
        "# This is our prediction for results based on our model\n",
        "home_score_predict = regressor.predict(X_test)\n",
        "residuals = np.subtract(home_score_predict, y_test)\n",
        "\n",
        "# Let's describe our residual:\n",
        "pd.DataFrame(residuals).describe()\n",
        "\n",
        "residuals.mean()"
      ],
      "execution_count": null,
      "outputs": [
        {
          "output_type": "execute_result",
          "data": {
            "text/plain": [
              "0.20049505256129244"
            ]
          },
          "metadata": {
            "tags": []
          },
          "execution_count": 51
        }
      ]
    },
    {
      "cell_type": "markdown",
      "metadata": {
        "id": "y6meyS8jvKV3",
        "colab_type": "text"
      },
      "source": [
        "Before we interpret the description above, let's recall what we are trying to predict: The home sore goals. This means values between 0 and 1.\n",
        "\n",
        "\n",
        "\n",
        "mean on the other hand is positive, indicating that i tend to be fairly correct, although slightly over estimating chances by, on average 20%\n",
        "\n",
        "Let's show the residual plot"
      ]
    },
    {
      "cell_type": "code",
      "metadata": {
        "id": "eEadZ4egvIEf",
        "colab_type": "code",
        "colab": {
          "base_uri": "https://localhost:8080/",
          "height": 279
        },
        "outputId": "f7166821-62f0-42b9-c9a5-3e74ce219143"
      },
      "source": [
        "import matplotlib.pyplot as plt\n",
        "\n",
        "plt.scatter(home_score_predict, residuals, color='black')\n",
        "plt.ylabel('residual')\n",
        "plt.xlabel('fitted values')\n",
        "plt.axhline(y= residuals.mean(), color='red', linewidth=1)\n",
        "plt.show()"
      ],
      "execution_count": null,
      "outputs": [
        {
          "output_type": "display_data",
          "data": {
            "image/png": "[encoded data removed]",
            "text/plain": [
              "<Figure size 432x288 with 1 Axes>"
            ]
          },
          "metadata": {
            "tags": [],
            "needs_background": "light"
          }
        }
      ]
    },
    {
      "cell_type": "markdown",
      "metadata": {
        "id": "2gLuA7eSwKiI",
        "colab_type": "text"
      },
      "source": [
        "This does not look too bad: our residuals are centered around a mean, and there are no glaringly obvious patterns. Let mebe thorough though, and perform a heteroskedasticity test.\n",
        "\n",
        "I will use bartlett's test. The test establishes as a null hypothesis that the variance is equal for all our datapoints,and the new hypothesis that the variance is different for at least one pair of datapoints."
      ]
    },
    {
      "cell_type": "code",
      "metadata": {
        "id": "-Kij7kYcwfn6",
        "colab_type": "code",
        "colab": {
          "base_uri": "https://localhost:8080/",
          "height": 50
        },
        "outputId": "43d2ba63-e5ac-4596-b97d-b721493273ee"
      },
      "source": [
        "import scipy as sp\n",
        "\n",
        "test_result, p_value = sp.stats.bartlett(home_score_predict, residuals)\n",
        "\n",
        "# To interpret the results we must also compute a critical value of the chi squared distribution\n",
        "degree_of_freedom = len(home_score_predict)-1\n",
        "probability = 1 - p_value\n",
        "\n",
        "critical_value = sp.stats.chi2.ppf(probability, degree_of_freedom)\n",
        "print(p_value)\n",
        "\n",
        "# If the test_result is greater than the critical value, then we reject our null\n",
        "# hypothesis. This would mean that there are patterns to the variance of the data\n",
        "\n",
        "# Otherwise, we can identify no patterns, and we accept the null hypothesis that \n",
        "# the variance is homogeneous across our data\n",
        "\n",
        "if (test_result > critical_value):\n",
        "  print('the variances are unequal, and the model should be reassessed')\n",
        "else:\n",
        "  print('the variances are homogeneous!')\n",
        "\n"
      ],
      "execution_count": null,
      "outputs": [
        {
          "output_type": "stream",
          "text": [
            "2.489811030754257e-09\n",
            "the variances are homogeneous!\n"
          ],
          "name": "stdout"
        }
      ]
    },
    {
      "cell_type": "markdown",
      "metadata": {
        "id": "z2Szes4yxDEL",
        "colab_type": "text"
      },
      "source": [
        "This means that the test result < critical_value"
      ]
    },
    {
      "cell_type": "markdown",
      "metadata": {
        "id": "cKOE1MWdx0xQ",
        "colab_type": "text"
      },
      "source": [
        "11.Model 2:Predicting the away scores"
      ]
    },
    {
      "cell_type": "markdown",
      "metadata": {
        "id": "b6w9bK9lyC3J",
        "colab_type": "text"
      },
      "source": [
        "Create residual plots for model 2, and assess its heteroscedasticity using Bartlett’s test"
      ]
    },
    {
      "cell_type": "code",
      "metadata": {
        "id": "8M7MUpSoyIb1",
        "colab_type": "code",
        "colab": {}
      },
      "source": [
        "x_away = df[['rank_home', 'rank_away', 'tourn_type']].values.reshape(-1,-1)\n",
        "y_away = df['away_score'].values\n",
        "\n",
        "x_away_train, y_away_test, y_away_train, y_away_test = train_test_split(x_away, y_away, test_size=0.2, random_state=0)\n",
        "\n",
        "regressor = LinearRegression()\n",
        "regressor.fit(x_away_train, y_away_train)\n",
        "\n",
        "# This is our prediction for results based on our model\n",
        "away_score_predict = regressor.predict(x_away_test)\n",
        "residuals = np.subtract(away_score_predict, y_away_test)\n",
        "\n",
        "# Let's describe our residual:\n",
        "pd.DataFrame(residuals).describe()\n",
        "\n",
        "residuals.mean()\n",
        "#\n"
      ],
      "execution_count": null,
      "outputs": []
    },
    {
      "cell_type": "code",
      "metadata": {
        "id": "tE_swBYs3FgM",
        "colab_type": "code",
        "colab": {
          "base_uri": "https://localhost:8080/",
          "height": 50
        },
        "outputId": "46586fd4-1304-4bab-d64d-dd1bee898691"
      },
      "source": [
        "test_result, p_value = sp.stats.bartlett(away_score_predict, residuals)\n",
        "\n",
        "# To interpret the results we must also compute a critical value of the chi squared distribution\n",
        "degree_of_freedom = len(away_score_predict)-1\n",
        "probability = 1 - p_value\n",
        "\n",
        "critical_value = sp.stats.chi2.ppf(probability, degree_of_freedom)\n",
        "print(p_value)\n",
        "\n",
        "# If the test_result is greater than the critical value, then we reject our null\n",
        "# hypothesis. This would mean that there are patterns to the variance of the data\n",
        "\n",
        "# Otherwise, we can identify no patterns, and we accept the null hypothesis that \n",
        "# the variance is homogeneous across our data\n",
        "\n",
        "if (test_result > critical_value):\n",
        "  print('the variances are unequal, and the model should be reassessed')\n",
        "else:\n",
        "  print('the variances are homogeneous!')\n"
      ],
      "execution_count": null,
      "outputs": [
        {
          "output_type": "stream",
          "text": [
            "1.056056348864763e-48\n",
            "the variances are homogeneous!\n"
          ],
          "name": "stdout"
        }
      ]
    },
    {
      "cell_type": "markdown",
      "metadata": {
        "id": "BQQ7RSjk9wKx",
        "colab_type": "text"
      },
      "source": [
        "This means that the critical value  > test stastic"
      ]
    },
    {
      "cell_type": "markdown",
      "metadata": {
        "id": "Md9KsDXfH7LV",
        "colab_type": "text"
      },
      "source": [
        "12.Feature Engineering"
      ]
    },
    {
      "cell_type": "code",
      "metadata": {
        "id": "QK3QpcNpKLfx",
        "colab_type": "code",
        "colab": {}
      },
      "source": [
        "# Import your necessary dependencies\n",
        "#Recursive Feature elimination: Recursive feature elimination performs a greedy search to find the best performing feature subset. \n",
        "#It iteratively creates models and determines the best or the worst performing feature at each iteration. \n",
        "#It constructs the subsequent models with the left features until all the features are explored.\n",
        "#It then ranks the features based on the order of their elimination\n",
        "from sklearn.feature_selection import RFE\n",
        "from sklearn.linear_model import LogisticRegression"
      ],
      "execution_count": null,
      "outputs": []
    },
    {
      "cell_type": "code",
      "metadata": {
        "id": "6pKARZ81KZZv",
        "colab_type": "code",
        "colab": {}
      },
      "source": [
        "# convert our data frame objects to numpy array for easier computation\n",
        "\n",
        "array = df.values\n",
        "p = array[:,0:8].astype(int)\n",
        "q= array[:,8]"
      ],
      "execution_count": null,
      "outputs": []
    },
    {
      "cell_type": "code",
      "metadata": {
        "id": "ThxtHkehLgi1",
        "colab_type": "code",
        "colab": {
          "base_uri": "https://localhost:8080/",
          "height": 67
        },
        "outputId": "4abea45a-bc88-4a3d-e140-5af14ebf0753"
      },
      "source": [
        "# Feature extraction\n",
        "#Feature Selection is the process of selecting out the most significant features from a given dataset. In many of the cases, \n",
        "#Feature Selection can enhance the performance of a machine learning model as well.\n",
        "#I will choose only 4 factors out of all 12.\n",
        "model = LogisticRegression()\n",
        "rfe = RFE(model, 4)\n",
        "fit = rfe.fit(p, q)\n",
        "print(\"Num Features: %s\" % (fit.n_features_))\n",
        "print(\"Selected Features: %s\" % (fit.support_))\n",
        "print(\"Feature Ranking: %s\" % (fit.ranking_))"
      ],
      "execution_count": null,
      "outputs": [
        {
          "output_type": "stream",
          "text": [
            "Num Features: 4\n",
            "Selected Features: [ True  True False  True False False False  True]\n",
            "Feature Ranking: [1 1 3 1 4 2 5 1]\n"
          ],
          "name": "stdout"
        }
      ]
    },
    {
      "cell_type": "markdown",
      "metadata": {
        "id": "TV-ty4AGzHZv",
        "colab_type": "text"
      },
      "source": [
        "The features ranked 1 are the best features to predict with."
      ]
    },
    {
      "cell_type": "markdown",
      "metadata": {
        "id": "LQ-uynwgNI32",
        "colab_type": "text"
      },
      "source": [
        "13.Hyper parameter Tuning"
      ]
    },
    {
      "cell_type": "code",
      "metadata": {
        "id": "InsmVE18NPOK",
        "colab_type": "code",
        "colab": {}
      },
      "source": [
        "from sklearn import linear_model, datasets\n",
        "from sklearn.model_selection import GridSearchCV"
      ],
      "execution_count": null,
      "outputs": []
    },
    {
      "cell_type": "code",
      "metadata": {
        "id": "VQ09oaWsQ758",
        "colab_type": "code",
        "colab": {}
      },
      "source": [
        "# Creating the logistic regression\n",
        "logistic = linear_model.LogisticRegression()"
      ],
      "execution_count": null,
      "outputs": []
    },
    {
      "cell_type": "code",
      "metadata": {
        "id": "Ee2QBFwURsyS",
        "colab_type": "code",
        "colab": {}
      },
      "source": [
        "# Creating regularization penalty space\n",
        "penalty = ['l1', 'l2']\n",
        "\n",
        "# Creating regularization hyperparameter space\n",
        "C = np.logspace(0, 4, 10)\n",
        "\n",
        "# Creating hyperparameter options\n",
        "hyperparameters = dict(C=C, penalty=penalty)"
      ],
      "execution_count": null,
      "outputs": []
    },
    {
      "cell_type": "code",
      "metadata": {
        "id": "0T9IrKxOR5Gj",
        "colab_type": "code",
        "colab": {}
      },
      "source": [
        "# Creating grid search using 5-fold cross validation\n",
        "clf = GridSearchCV(logistic, hyperparameters, cv=5, verbose=0)"
      ],
      "execution_count": null,
      "outputs": []
    },
    {
      "cell_type": "code",
      "metadata": {
        "id": "-RihulU_SA4Y",
        "colab_type": "code",
        "colab": {}
      },
      "source": [
        "# Fitting grid search\n",
        "best_model = clf.fit(X, y)"
      ],
      "execution_count": null,
      "outputs": []
    },
    {
      "cell_type": "code",
      "metadata": {
        "id": "XxoXWuZ6SIWj",
        "colab_type": "code",
        "colab": {
          "base_uri": "https://localhost:8080/",
          "height": 50
        },
        "outputId": "22bb9783-62ae-46eb-ec4d-fd9274e889ee"
      },
      "source": [
        "# Viewing best hyperparameters\n",
        "print('Best Penalty:', best_model.best_estimator_.get_params()['penalty'])\n",
        "print('Best C:', best_model.best_estimator_.get_params()['C'])"
      ],
      "execution_count": null,
      "outputs": [
        {
          "output_type": "stream",
          "text": [
            "Best Penalty: l2\n",
            "Best C: 3593.813663804626\n"
          ],
          "name": "stdout"
        }
      ]
    },
    {
      "cell_type": "code",
      "metadata": {
        "id": "M8Whu9RRSR0E",
        "colab_type": "code",
        "colab": {
          "base_uri": "https://localhost:8080/",
          "height": 883
        },
        "outputId": "bca94649-c3bd-4462-f88a-1332521f373d"
      },
      "source": [
        "# Predicting target vector\n",
        "best_model.predict(X)"
      ],
      "execution_count": null,
      "outputs": [
        {
          "output_type": "execute_result",
          "data": {
            "text/plain": [
              "array([ 1,  1,  1,  1,  1,  1,  1,  1,  1,  1,  1,  1,  0,  2,  0,  0,  1,\n",
              "        0,  1,  1,  1,  1,  1,  1,  1,  1,  1,  1,  1,  0,  1,  1,  2,  1,\n",
              "        0,  1,  2,  1,  1,  1,  0,  1,  1,  1,  1,  1,  1,  1,  0,  1,  2,\n",
              "        0, 31,  0,  2,  1,  2,  0,  0,  1,  1,  2,  1,  1,  1,  1,  1,  0,\n",
              "        1,  2,  1,  1,  1,  0,  1,  1,  1,  1,  1,  0,  1,  1,  1,  1,  1,\n",
              "        1,  1,  1, 10,  1,  1,  1,  1,  1,  0,  1,  1,  1,  1,  1,  2,  1,\n",
              "        1,  1,  1,  2,  1,  1,  1,  1,  1,  1,  2,  0,  0,  2,  0,  1,  1,\n",
              "        1,  1,  1,  1,  0,  1,  1,  0,  2,  1,  0,  1,  1,  1,  1,  1,  2,\n",
              "        1,  1,  1,  2,  1,  1,  0,  1,  0,  2,  1,  1,  0,  2,  2,  0,  0,\n",
              "        1,  1,  2,  1,  2,  1,  1,  1,  1,  1,  1,  1,  1,  1,  1,  1,  1,\n",
              "        1,  1,  1,  1,  0,  0,  0,  2,  0,  1,  1,  1,  1, 10,  0,  1,  1,\n",
              "        2,  1,  1,  1,  0,  1,  1,  1,  1,  1,  1,  1,  1,  1,  0,  1,  1,\n",
              "        1,  2,  1,  1,  1,  1,  1,  1,  1,  2,  1,  1,  1,  1,  1,  1,  1,\n",
              "        1,  1,  0,  2,  1,  2,  1,  1,  1,  1,  2,  1,  0,  1,  1,  2,  2,\n",
              "        2,  0,  0,  2,  1,  1,  2,  1,  1,  1,  1,  0,  0,  0,  2,  1,  1,\n",
              "        0,  1,  1,  1,  0,  1,  1,  0,  0,  1,  0,  2,  1,  1,  1,  0,  1,\n",
              "        0,  0,  1,  1,  2,  1,  1,  1,  1,  1,  1,  1,  1,  1,  1,  1,  1,\n",
              "        1,  0,  1,  1,  1,  1,  1,  1,  1,  1,  1,  1,  0,  0,  1,  0,  2,\n",
              "        1,  1,  1,  1,  1,  1,  1,  2,  1,  1,  1,  1,  1,  1,  1,  0,  1,\n",
              "        1,  1,  0,  2,  2,  3,  2,  0,  1,  0,  1,  3,  0,  1,  1,  1,  1,\n",
              "        2,  0,  2,  1,  0,  2,  1,  1,  1,  1,  2,  0,  1,  1,  2,  1,  2,\n",
              "        0,  1,  2,  1,  3,  1,  1,  2,  2,  0,  0,  2,  2,  0,  1,  1,  1,\n",
              "        1,  0,  2,  1,  2,  1,  2,  1,  1,  1,  1,  1,  2,  2,  1,  1,  2,\n",
              "        1,  0,  1,  1,  1,  2,  1, 10,  1,  1,  1,  1,  1,  1,  1,  0,  0,\n",
              "        0,  1,  1,  1,  1,  1,  2,  2,  2,  1,  1,  2,  1,  1,  1,  2,  2,\n",
              "        1,  0,  2,  2,  1,  0,  1,  1,  0,  1,  2,  2,  1,  1,  1,  1,  1,\n",
              "        1,  1,  1,  1,  1,  0,  0,  1,  2,  1,  1,  0,  0,  1,  1,  1,  1,\n",
              "        1,  1,  2,  1,  1,  1,  2,  1,  1,  1,  1,  1,  1,  1,  1,  1,  1,\n",
              "        2,  1,  0,  2,  2,  1,  1,  1,  1,  1,  1,  1,  1,  0,  1,  1,  2,\n",
              "        0,  1,  1,  2,  0,  1,  0,  0,  1,  1,  0,  0,  0,  2,  2,  2,  0,\n",
              "        1,  2,  1,  2,  2,  2,  1,  0,  2,  1,  1,  0,  0,  2,  2,  2,  2,\n",
              "        0,  0,  0,  0,  1,  0,  1,  2,  1,  1,  1,  0,  1,  2,  2,  1,  0,\n",
              "        0,  1,  1,  2,  2,  0,  1,  1,  0,  2,  1,  1,  1,  1,  1,  0,  1,\n",
              "        1,  0,  1,  0,  1,  1,  1,  0,  2,  1,  1,  0,  2,  1,  1,  2,  0,\n",
              "        2,  1,  2,  2,  1,  1,  1,  2,  1,  1,  2,  0,  1,  1,  1,  0,  1,\n",
              "        0,  0,  0,  0,  0,  1,  0,  1,  0,  1,  1,  1,  2,  1,  0,  1,  1,\n",
              "        1,  1,  2,  1,  2,  1,  1,  1,  2,  0,  0,  0,  1,  1,  1,  0,  2,\n",
              "        1,  0,  0,  1,  1,  1,  1,  0,  1,  2,  1,  0,  1,  1,  2,  1,  2,\n",
              "        1,  1,  0,  1,  0,  1,  3,  1,  0,  1,  1,  2,  1,  1,  0,  1,  2,\n",
              "        0,  1,  1,  2,  2,  0,  0,  1,  0,  2,  1,  0,  1,  2,  1,  1,  1,\n",
              "        2,  1,  1,  2,  0,  1,  2,  1,  1,  0,  1,  2,  1,  1,  2,  0,  1,\n",
              "        1,  1,  1,  1,  1,  0,  0,  1,  2,  1,  2,  0,  1,  2,  1,  1,  2,\n",
              "        2,  1,  2,  1,  0,  1,  2,  2,  1,  1,  1,  1,  2,  1,  0,  1,  1,\n",
              "        1,  1,  1,  1,  1,  0,  1,  1,  1,  1,  1,  1,  1,  1,  0,  1,  1,\n",
              "        0,  1,  1,  1,  1,  1, 10,  1,  1,  1,  1,  2,  3,  1,  0,  0,  1,\n",
              "        1,  1,  2,  1,  1,  1,  0,  2,  2,  1,  1,  1,  0,  1,  1,  2,  0,\n",
              "        1,  2,  1,  1,  2,  2,  0,  0,  0,  1,  1,  1,  1,  1,  1,  1,  1,\n",
              "        2,  1,  1,  0,  0,  0,  1,  1,  0,  0,  0,  2,  0,  0,  1,  1,  0,\n",
              "        1,  0,  2,  3,  0,  2,  0,  2,  1,  1,  1,  1,  2,  2,  2,  0,  2,\n",
              "        1,  1,  0,  3,  2,  3,  3,  2,  1,  1,  2,  1,  1,  1,  2,  2,  2,\n",
              "        2,  0,  2,  1,  0,  0,  0,  2,  1,  2,  1,  1,  2,  2,  2,  2,  1,\n",
              "        2,  2,  1,  2])"
            ]
          },
          "metadata": {
            "tags": []
          },
          "execution_count": 73
        }
      ]
    },
    {
      "cell_type": "markdown",
      "metadata": {
        "id": "PXWjwXB3BtPV",
        "colab_type": "text"
      },
      "source": [
        "14.Logistic Regression"
      ]
    },
    {
      "cell_type": "code",
      "metadata": {
        "id": "qn00FHAQBKBb",
        "colab_type": "code",
        "colab": {}
      },
      "source": [
        "#Feature Engineering: Figure out from the home team’s perspective if the game is a Win, Lose or Draw (W, L, D)\n",
        "a = df['match_score','rank_home', 'rank_away'].values.reshape(-1,1)\n",
        "b = df['result'].values.reshape(-1,1)\n"
      ],
      "execution_count": null,
      "outputs": []
    },
    {
      "cell_type": "code",
      "metadata": {
        "id": "FpepceNWCCU1",
        "colab_type": "code",
        "colab": {}
      },
      "source": [
        "#Splitting the dataset into 0.8 for training and 0.2 for testing\n",
        "from sklearn.model_selection import train_test_split\n",
        "a_train, a_test, b_train, b_test = train_test_split(a, b, test_size = 0.2, random_state=0)"
      ],
      "execution_count": null,
      "outputs": []
    },
    {
      "cell_type": "code",
      "metadata": {
        "id": "4xrBtYCf_9Fj",
        "colab_type": "code",
        "colab": {}
      },
      "source": [
        "#Since i am no longer using these columns i decided to drop them\n",
        "df.drop(columns = ['tournament', 'tourn_type'],axis= 1, inplace =True)"
      ],
      "execution_count": null,
      "outputs": []
    },
    {
      "cell_type": "code",
      "metadata": {
        "id": "y4d4FDVdA1oE",
        "colab_type": "code",
        "colab": {}
      },
      "source": [
        "#Drop these unnecessary columns\n",
        "df.drop(columns = ['home_team', 'away_team'],axis= 1, inplace =True)"
      ],
      "execution_count": null,
      "outputs": []
    },
    {
      "cell_type": "code",
      "metadata": {
        "id": "j8bBKKidC-RA",
        "colab_type": "code",
        "colab": {
          "base_uri": "https://localhost:8080/",
          "height": 100
        },
        "outputId": "494d99c2-54e3-4b16-d285-4923202a4ded"
      },
      "source": [
        "# Fitting our model\n",
        "# \n",
        "from sklearn.linear_model import LogisticRegression\n",
        "\n",
        "LogReg = LogisticRegression()\n",
        "LogReg.fit(a_train, b_train)"
      ],
      "execution_count": null,
      "outputs": [
        {
          "output_type": "execute_result",
          "data": {
            "text/plain": [
              "LogisticRegression(C=1.0, class_weight=None, dual=False, fit_intercept=True,\n",
              "                   intercept_scaling=1, l1_ratio=None, max_iter=100,\n",
              "                   multi_class='auto', n_jobs=None, penalty='l2',\n",
              "                   random_state=None, solver='lbfgs', tol=0.0001, verbose=0,\n",
              "                   warm_start=False)"
            ]
          },
          "metadata": {
            "tags": []
          },
          "execution_count": 86
        }
      ]
    },
    {
      "cell_type": "code",
      "metadata": {
        "id": "B3nhsuxXDHsf",
        "colab_type": "code",
        "colab": {}
      },
      "source": [
        "# Using our model to make a prediction\n",
        "#\n",
        "\n",
        "b_pred = LogReg.predict(b_test)"
      ],
      "execution_count": null,
      "outputs": []
    },
    {
      "cell_type": "code",
      "metadata": {
        "id": "Y6E3jc6SDdDW",
        "colab_type": "code",
        "colab": {
          "base_uri": "https://localhost:8080/",
          "height": 67
        },
        "outputId": "0b86a4e0-c3ef-49ac-fa4f-096b4f194b98"
      },
      "source": [
        "# Evaluating the model\n",
        "#\n",
        "from sklearn.metrics import confusion_matrix\n",
        "confusion_matrix = confusion_matrix(b_test, b_pred)\n",
        "confusion_matrix\n",
        "\n",
        "# The results from the confusion matrix tell us that 52 and 69 are the number of correct predictions. \n",
        "# 54 are the number of incorrect predictions."
      ],
      "execution_count": null,
      "outputs": [
        {
          "output_type": "execute_result",
          "data": {
            "text/plain": [
              "array([[52,  0,  0],\n",
              "       [ 0, 69,  0],\n",
              "       [ 0, 54,  0]])"
            ]
          },
          "metadata": {
            "tags": []
          },
          "execution_count": 88
        }
      ]
    },
    {
      "cell_type": "markdown",
      "metadata": {
        "id": "dU5HpMLXpzCb",
        "colab_type": "text"
      },
      "source": [
        "Cross validation of my logistic model"
      ]
    },
    {
      "cell_type": "code",
      "metadata": {
        "id": "MmZwzEoBp6Vf",
        "colab_type": "code",
        "colab": {
          "base_uri": "https://localhost:8080/",
          "height": 67
        },
        "outputId": "ebe05df6-5e4c-45fa-99ca-85bb8962420b"
      },
      "source": [
        "#Calculare the Mean Absolute Error,'Mean Squared Error,Root Mean Squared Error\n",
        "#a = df['match_score', 'rank_home', 'rank_away'].values.reshape(1, -1)\n",
        "a = df['match_score'].values.reshape(-1,1)\n",
        "b = df['result'].values.reshape(-1,1)\n",
        "\n",
        "regressor = LinearRegression()  \n",
        "regressor.fit(a_train, b_train)\n",
        "\n",
        "# assess the accuraccy of the model\n",
        "b_pred = regressor.predict(a_test)\n",
        "\n",
        "print('Mean Absolute Error:', metrics.mean_absolute_error(b_test, b_pred))  \n",
        "print('Mean Squared Error:', metrics.mean_squared_error(b_test, b_pred))  \n",
        "print('Root Mean Squared Error:', np.sqrt(metrics.mean_squared_error(b_test, b_pred)))"
      ],
      "execution_count": null,
      "outputs": [
        {
          "output_type": "stream",
          "text": [
            "Mean Absolute Error: 0.5970441484935861\n",
            "Mean Squared Error: 0.5350933428900799\n",
            "Root Mean Squared Error: 0.7315007470194955\n"
          ],
          "name": "stdout"
        }
      ]
    },
    {
      "cell_type": "code",
      "metadata": {
        "id": "MSycOUfvqgKG",
        "colab_type": "code",
        "colab": {
          "base_uri": "https://localhost:8080/",
          "height": 283
        },
        "outputId": "d72ee816-2888-4f39-e0c4-5409107eeb82"
      },
      "source": [
        "#Cross validating logistic model\n",
        "#Cross validation using kFold method\n",
        "from sklearn.model_selection import KFold\n",
        "\n",
        "# We will use the same 1 independent variables for this\n",
        "a = df['match_score'].values.reshape(-1,1)\n",
        "b = df['result'].values.reshape(-1,1)\n",
        "\n",
        "\n",
        "\n",
        "folds = KFold(n_splits=5)\n",
        "\n",
        "# note that if you have a KFold object, you can figure out how many folds you set up \n",
        "# for it using get_n_splits\n",
        "print('we are using ' +str(folds.get_n_splits(a)) + ' folds')\n",
        "\n",
        "# We now create and assess 5 models based on the folds we created.\n",
        "RMSES = [] # We will use this array to keep track of the RSME of each model\n",
        "count = 1 # This will just help \n",
        "for train_index, test_index in folds.split(a):\n",
        "  print('\\nTraining model ' + str(count))\n",
        "  \n",
        "  # set up the train and test based on the split determined by KFold\n",
        "  # With 5 folds, we will end up with 80% of our data in the training set, and 20% in the test set, just as above\n",
        "  a_train, a_test = a[train_index], a[test_index]\n",
        "  b_train, b_test = b[train_index], b[test_index]\n",
        "  \n",
        "  # fit a model accordingly\n",
        "  regressor = LinearRegression()  \n",
        "  regressor.fit(a_train, b_train)\n",
        "  \n",
        "  # assess the accuraccy of the model\n",
        "  b_pred = regressor.predict(a_test)\n",
        "  \n",
        "  rmse_value =  np.sqrt(metrics.mean_squared_error(b_test, b_pred))\n",
        "  RMSES.append(rmse_value)\n",
        "  \n",
        "  print('Model ' + str(count) + ' Root Mean Squared Error:',rmse_value)\n",
        "  count = count + 1"
      ],
      "execution_count": null,
      "outputs": [
        {
          "output_type": "stream",
          "text": [
            "we are using 5 folds\n",
            "\n",
            "Training model 1\n",
            "Model 1 Root Mean Squared Error: 0.6778634653004032\n",
            "\n",
            "Training model 2\n",
            "Model 2 Root Mean Squared Error: 0.7545469265882512\n",
            "\n",
            "Training model 3\n",
            "Model 3 Root Mean Squared Error: 0.6729870120817066\n",
            "\n",
            "Training model 4\n",
            "Model 4 Root Mean Squared Error: 0.6972761196588079\n",
            "\n",
            "Training model 5\n",
            "Model 5 Root Mean Squared Error: 0.6777595328739084\n"
          ],
          "name": "stdout"
        }
      ]
    },
    {
      "cell_type": "markdown",
      "metadata": {
        "id": "H0u20Xd85OQ9",
        "colab_type": "text"
      },
      "source": [
        "As you can tell from running the code, the RMSE value for my 2nd model is almost similar to the RMSE we found initially, and that of the other models.\n",
        "The best model here is model 3.\n",
        "\n",
        "Another useful observation is comparing the average RMSE value of all these models to the one we obtain in the initial approach. We created the array RMSES to gather all the RMSE values, we can compute the average simply as follows"
      ]
    },
    {
      "cell_type": "code",
      "metadata": {
        "id": "PQ6llQvv4lSk",
        "colab_type": "code",
        "colab": {
          "base_uri": "https://localhost:8080/",
          "height": 33
        },
        "outputId": "b4c4d3bc-e654-42e2-a476-c7d8ef1d69dc"
      },
      "source": [
        "np.mean(RMSES)"
      ],
      "execution_count": null,
      "outputs": [
        {
          "output_type": "execute_result",
          "data": {
            "text/plain": [
              "0.6960866113006154"
            ]
          },
          "metadata": {
            "tags": []
          },
          "execution_count": 129
        }
      ]
    },
    {
      "cell_type": "markdown",
      "metadata": {
        "id": "1nfWcwuT5zwu",
        "colab_type": "text"
      },
      "source": [
        "As you can see, the average is less than initial value of 0.75. However in this case, it might be worthwile to pick model 3 instead.\n",
        "\n",
        "Let's now highlight some variants of k-folds. A popular variant is called the leave one out cross validation, where the test data is just a single observation from your set. For a dataset of size n, this is the same as using kfold to create n folds."
      ]
    },
    {
      "cell_type": "markdown",
      "metadata": {
        "id": "lE_EPdZC5AnT",
        "colab_type": "text"
      },
      "source": [
        "Plot of RMSE"
      ]
    },
    {
      "cell_type": "code",
      "metadata": {
        "id": "TKQnq5QO48k3",
        "colab_type": "code",
        "colab": {
          "base_uri": "https://localhost:8080/",
          "height": 279
        },
        "outputId": "c1342860-bcc8-4f21-8bc2-4737dd033c07"
      },
      "source": [
        "plt.plot(RMSES)\n",
        "plt.ylabel('RMSE value')\n",
        "plt.xlabel('model ID')\n",
        "plt.show()"
      ],
      "execution_count": null,
      "outputs": [
        {
          "output_type": "display_data",
          "data": {
            "image/png": "[encoded data removed]",
            "text/plain": [
              "<Figure size 432x288 with 1 Axes>"
            ]
          },
          "metadata": {
            "tags": [],
            "needs_background": "light"
          }
        }
      ]
    },
    {
      "cell_type": "markdown",
      "metadata": {
        "id": "Id8n9_G56lMh",
        "colab_type": "text"
      },
      "source": [
        " This indicates to us that it would be effective to create a model that beats the ~0.69 average RMSE using this dataset."
      ]
    },
    {
      "cell_type": "markdown",
      "metadata": {
        "id": "fqcY6nKP8CMs",
        "colab_type": "text"
      },
      "source": [
        "Create residual plots for model 1, and assess its heteroscedasticity using Bartlett’s test"
      ]
    },
    {
      "cell_type": "code",
      "metadata": {
        "id": "LsekJxMk7eNK",
        "colab_type": "code",
        "colab": {
          "base_uri": "https://localhost:8080/",
          "height": 33
        },
        "outputId": "5ce2cbf8-f114-482e-b03d-627828b27303"
      },
      "source": [
        "a_train, a_test, b_train, b_test = train_test_split(a, b, test_size=0.2, random_state=0)\n",
        "\n",
        "regressor = LinearRegression()\n",
        "regressor.fit(a_train, b_train)\n",
        "\n",
        "# This is our prediction for results based on our model\n",
        "result_predict = regressor.predict(a_test)\n",
        "residuals = np.subtract(result_predict, b_test)\n",
        "\n",
        "# Let's describe our residual:\n",
        "pd.DataFrame(residuals).describe()\n",
        "\n",
        "residuals.mean()"
      ],
      "execution_count": null,
      "outputs": [
        {
          "output_type": "execute_result",
          "data": {
            "text/plain": [
              "0.02576198524008547"
            ]
          },
          "metadata": {
            "tags": []
          },
          "execution_count": 131
        }
      ]
    },
    {
      "cell_type": "markdown",
      "metadata": {
        "id": "qtsOFmGI8jlh",
        "colab_type": "text"
      },
      "source": [
        "Before we interpret the description above, let's recall what we are trying to predict: Figure out from the home team’s perspective if the game is a Win, Lose or Draw (W, L, D). This means values between 0 and 1.\n",
        "\n",
        "mean on the other hand is positive, indicating that i tend to be fairly correct, although slightly over estimating chances by, on average 25%\n"
      ]
    },
    {
      "cell_type": "markdown",
      "metadata": {
        "id": "LrE0ZHtgk6dl",
        "colab_type": "text"
      },
      "source": [
        "Challenging my solution"
      ]
    },
    {
      "cell_type": "code",
      "metadata": {
        "id": "uCtuERMmk3hW",
        "colab_type": "code",
        "colab": {}
      },
      "source": [
        "#Since i was able to meet 0.70 accuracy in my model by predicting 121 correctly out of 175, i should still aim for a higher % of accuracy.\n",
        "#The merge on the two datasets is not as efficient and results to data loss."
      ],
      "execution_count": null,
      "outputs": []
    }
  ]
}